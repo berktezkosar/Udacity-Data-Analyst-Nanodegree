{
 "cells": [
  {
   "cell_type": "markdown",
   "metadata": {
    "hide_input": false,
    "slideshow": {
     "slide_type": "slide"
    }
   },
   "source": [
    "# 1. INTRODUCTION <a class=\"anchor\" id=\"INTRODUCTION\"></a>"
   ]
  },
  {
   "cell_type": "markdown",
   "metadata": {
    "slideshow": {
     "slide_type": "subslide"
    }
   },
   "source": [
    "Over the last decade, bicycle share networks have increased in number and prevalence in cities around the world. Bicycle share services allow users to borrow short-distance bicycles, normally 30 minutes or less. Thanks to the increase of information technology, it is easy for the system user to enter the dock inside the system to unlock or return bicycles. These solutions also have a range of data that can be used to analyze how these bike sharing networks are used.\n",
    "\n",
    "Bay Wheels (known as Ford GoBike) is the Bay Area's new bike sharing scheme, with thousands of shared bikes to be used around San Francisco, East Bay and San Jose. The rental bikes was built with comfort in mind. It's a fun and inexpensive way to travel around town. It also offers a single ride of $2 a day that's ideal for a one-way trip, a monthly membership of $15 a month for a decent price for residents, and a 10 dollar entry pass that's perfect for exploring.\n",
    "\n",
    "In this project, I will perform an exploratory analysis on data provided by Bay Wheels (Ford GoBike), a bike-share system provider.\n",
    "\n",
    "**About Dataset:**\n",
    "I chose [Ford GoBike System Data (Bay Wheels Dataset)](https://s3.amazonaws.com/fordgobike-data/index.html) in Udacity (which is now can be accessed as Bay Wheels) as my source data This data set includes information about individual rides made in a bike-sharing system. Multiple data files need to be joined together for a full year’s coverage.\n",
    "\n",
    "The features included in the dataset : \n",
    "- Trip Duration (seconds)\n",
    "- Start Time and Date - \n",
    "- End Time and Date\n",
    "- Start Station ID \n",
    "- Start Station Name\n",
    "- Start Station Latitude\n",
    "- Start Station Longitude\n",
    "- End Station ID\n",
    "- End Station Name\n",
    "- End Station Latitude\n",
    "- End Station Longitude\n",
    "- Bike ID\n",
    "- User Type (Subscriber or Customer – “Subscriber” = Member or “Customer” = Casual)\n"
   ]
  },
  {
   "cell_type": "markdown",
   "metadata": {},
   "source": [
    "# Table Of Contents \n",
    "- [1. INTRODUCTION](#INTRODUCTION)\n",
    "- [2. WRANGLING THE DATA](#WRANGLINGTHEDATA)\n",
    "\t- [2.1. Gathering the Data](#GATHERING-THE-DATA)\n",
    "\t- [2.2. Assessing the Data](#AssessingTheData)\n",
    "\t\t-[2.2.1. Overall View](#OverallView)\n",
    "\t\t-[2.2.2. Checking the Null, None and Missing Data](#CheckNullMissing)\n",
    "\t\t-[2.2.3. Checking the Duplicate Data](#CheckDuplicate)        \n",
    "\t\t-[2.2.4. Quick Look The Datasets](#Quicklook)        \n",
    "\t\t-[2.2.5. Findings](#Findings)                \n",
    "\t- [2.3. Cleaning the Data](#CleaningTheData)            \n",
    "\t\t- [2.3.1. Missing and Tidy Data](#Missing-Data)\n",
    "\t\t- [2.3.2. Data Quality](#Data-Quality)\n",
    "\t\t\t- [2.3.2.1. Erroneous Datatypes](#ErroneousDatatypes)\n",
    "- [3. ANALYSIS & VISULIZATIONS](#ANALYSIS-VISULIZATIONS)\n",
    "\t- [3.1. Univariate Exploration](#Univariate-Exploration)\n",
    "\t\t- [3.1.1. Generating new columns for date from start_time and end_time](#NewColsFromDate)\n",
    "\t\t- [3.1.2. Generating Distance from Location Data](#Distance)        \n",
    "\t- [3.2. Bivariate Exploration](#Bivariate-Exploration)\n",
    "\t- [3.3. Multivariate Exploration](#Multivariate-Exploration)\n",
    "- [4. CONCLUSION](#CONCLUSION)\n",
    "\t- [4.1. Who are Bay Wheels' Customers?](#BayWheelsCustomer)\n",
    "\t\t- [4.1.1. Subscriber / Customer](#SbsorCustomer)\n",
    "\t\t- [4.1.2. Average Trip Time ](#AvgTripTime)        \n",
    "\t- [4.2. What are The Usage Statistics](#UsageStatistics)\n",
    "\t\t- [4.2.1. Most Used Hours](#MostUsedHours)        \n",
    "\t\t- [4.2.2. Most Used Days (Weekly Analysis)](#MostUsedDaysWeekly)        \n",
    "\t\t- [4.2.3. Most Used Days Monthly Analysis](#MostUsedDaysMonthly)        \n",
    "\t- [4.3. What are the Most Popular Locations? ](#PopLoc)\n",
    "\t\t- [4.3.1. Where People usually Start Their trip](#StartTrip)        \n",
    "\t\t- [4.3.2. Where People usually End Their trip](#EndTrip)        \n",
    "\t\t- [4.3.3. Heat map of the trips starting locations](#HeatMapStartTrip)        \n",
    "\t\t- [4.3.4. Heat map of the trips ending locations](#HeatMapEndTrip)        \n",
    "\t\t- [4.3.5. start and end point with different colors on the Geoplot](#Geoplot)   \n",
    "\t\t- [4.3.6. Famous Routes using Heatmap](#PopRoutes)        \n",
    "        \n",
    "        "
   ]
  },
  {
   "cell_type": "markdown",
   "metadata": {},
   "source": [
    "### Loading the Libraries"
   ]
  },
  {
   "cell_type": "code",
   "execution_count": 1,
   "metadata": {
    "hide_input": false
   },
   "outputs": [],
   "source": [
    "from requests import get\n",
    "import pandas as pd\n",
    "import numpy as np\n",
    "import matplotlib\n",
    "from matplotlib import pyplot as plt\n",
    "import matplotlib.ticker as tick\n",
    "import seaborn as sns\n",
    "import datetime\n",
    "import glob\n",
    "import os\n",
    "import math\n",
    "import warnings\n",
    "import calendar\n",
    "import math\n",
    "import time\n",
    "warnings.filterwarnings('ignore')\n",
    "from IPython.display import Image\n",
    "%matplotlib inline"
   ]
  },
  {
   "cell_type": "markdown",
   "metadata": {
    "slideshow": {
     "slide_type": "slide"
    }
   },
   "source": [
    "# 2. WRANGLING DATA <a class=\"anchor\" id=\"WRANGLINGTHEDATA\"></a>"
   ]
  },
  {
   "cell_type": "markdown",
   "metadata": {
    "slideshow": {
     "slide_type": "subslide"
    }
   },
   "source": [
    "## 2.1. Gathering the Data <a class=\"anchor\" id=\"GATHERING-THE-DATA\"></a>"
   ]
  },
  {
   "cell_type": "code",
   "execution_count": null,
   "metadata": {
    "slideshow": {
     "slide_type": "subslide"
    }
   },
   "outputs": [],
   "source": [
    "path = r'/Users/berktezkosar/Desktop/BayWheels/2018'\n",
    "files = glob.glob(os.path.join(path, \"*.csv\"))\n",
    "df = pd.concat((pd.read_csv(f) for f in files), ignore_index = True)\n",
    "df.to_csv('2018combined.csv', index = False)"
   ]
  },
  {
   "cell_type": "code",
   "execution_count": null,
   "metadata": {
    "slideshow": {
     "slide_type": "subslide"
    }
   },
   "outputs": [],
   "source": [
    "path = r'/Users/berktezkosar/Desktop/BayWheels/2019'\n",
    "files = glob.glob(os.path.join(path, \"*.csv\"))\n",
    "df = pd.concat((pd.read_csv(f) for f in files), ignore_index = True)\n",
    "df.to_csv('2019combined.csv', index = False)"
   ]
  },
  {
   "cell_type": "code",
   "execution_count": null,
   "metadata": {
    "slideshow": {
     "slide_type": "subslide"
    }
   },
   "outputs": [],
   "source": [
    "path = r'/Users/berktezkosar/Desktop/BayWheels/2020'\n",
    "files = glob.glob(os.path.join(path, \"*.csv\"))\n",
    "df = pd.concat((pd.read_csv(f) for f in files), ignore_index = True)\n",
    "df.to_csv('2018combined.csv', index = False)"
   ]
  },
  {
   "cell_type": "markdown",
   "metadata": {
    "slideshow": {
     "slide_type": "subslide"
    }
   },
   "source": [
    "<blockquote>After downloading files with related years, I combined them by year and moved to the main \"BayWheels\" folder </blockquote>"
   ]
  },
  {
   "cell_type": "markdown",
   "metadata": {
    "slideshow": {
     "slide_type": "slide"
    }
   },
   "source": [
    "## 2.2. Assessing the Data <a class=\"anchor\" id=\"AssessingTheData\"></a>"
   ]
  },
  {
   "cell_type": "markdown",
   "metadata": {
    "slideshow": {
     "slide_type": "subslide"
    }
   },
   "source": [
    "### 2.2.1. Overall View <a class=\"anchor\" id=\"OverallView\"></a>\n"
   ]
  },
  {
   "cell_type": "code",
   "execution_count": 129,
   "metadata": {
    "slideshow": {
     "slide_type": "subslide"
    }
   },
   "outputs": [],
   "source": [
    "df_2018 = pd.read_csv('/Users/berktezkosar/Desktop/BayWheels/2018combined.csv')\n",
    "df_2019 = pd.read_csv('/Users/berktezkosar/Desktop/BayWheels/2019combined.csv', low_memory=False)\n",
    "df_2020 = pd.read_csv('/Users/berktezkosar/Desktop/BayWheels/2020combined.csv', low_memory=False)"
   ]
  },
  {
   "cell_type": "code",
   "execution_count": 130,
   "metadata": {},
   "outputs": [
    {
     "name": "stdout",
     "output_type": "stream",
     "text": [
      "<class 'pandas.core.frame.DataFrame'>\n",
      "RangeIndex: 1863721 entries, 0 to 1863720\n",
      "Data columns (total 14 columns):\n",
      " #   Column                   Non-Null Count    Dtype  \n",
      "---  ------                   --------------    -----  \n",
      " 0   duration_sec             1863721 non-null  int64  \n",
      " 1   start_time               1863721 non-null  object \n",
      " 2   end_time                 1863721 non-null  object \n",
      " 3   start_station_id         1851950 non-null  float64\n",
      " 4   start_station_name       1851950 non-null  object \n",
      " 5   start_station_latitude   1863721 non-null  float64\n",
      " 6   start_station_longitude  1863721 non-null  float64\n",
      " 7   end_station_id           1851950 non-null  float64\n",
      " 8   end_station_name         1851950 non-null  object \n",
      " 9   end_station_latitude     1863721 non-null  float64\n",
      " 10  end_station_longitude    1863721 non-null  float64\n",
      " 11  bike_id                  1863721 non-null  int64  \n",
      " 12  user_type                1863721 non-null  object \n",
      " 13  bike_share_for_all_trip  1863721 non-null  object \n",
      "dtypes: float64(6), int64(2), object(6)\n",
      "memory usage: 199.1+ MB\n"
     ]
    }
   ],
   "source": [
    "df_2018.info(verbose = True, null_counts = True)"
   ]
  },
  {
   "cell_type": "code",
   "execution_count": 131,
   "metadata": {},
   "outputs": [
    {
     "name": "stdout",
     "output_type": "stream",
     "text": [
      "<class 'pandas.core.frame.DataFrame'>\n",
      "RangeIndex: 2506983 entries, 0 to 2506982\n",
      "Data columns (total 15 columns):\n",
      " #   Column                   Non-Null Count    Dtype  \n",
      "---  ------                   --------------    -----  \n",
      " 0   duration_sec             2506983 non-null  int64  \n",
      " 1   start_time               2506983 non-null  object \n",
      " 2   end_time                 2506983 non-null  object \n",
      " 3   start_station_id         2426249 non-null  float64\n",
      " 4   start_station_name       2426850 non-null  object \n",
      " 5   start_station_latitude   2506983 non-null  float64\n",
      " 6   start_station_longitude  2506983 non-null  float64\n",
      " 7   end_station_id           2424081 non-null  float64\n",
      " 8   end_station_name         2424633 non-null  object \n",
      " 9   end_station_latitude     2506983 non-null  float64\n",
      " 10  end_station_longitude    2506983 non-null  float64\n",
      " 11  bike_id                  2506983 non-null  int64  \n",
      " 12  user_type                2506983 non-null  object \n",
      " 13  bike_share_for_all_trip  2263724 non-null  object \n",
      " 14  rental_access_method     120838 non-null   object \n",
      "dtypes: float64(6), int64(2), object(7)\n",
      "memory usage: 286.9+ MB\n"
     ]
    }
   ],
   "source": [
    "df_2019.info(verbose = True, null_counts = True)"
   ]
  },
  {
   "cell_type": "code",
   "execution_count": 132,
   "metadata": {},
   "outputs": [
    {
     "name": "stdout",
     "output_type": "stream",
     "text": [
      "<class 'pandas.core.frame.DataFrame'>\n",
      "RangeIndex: 1737182 entries, 0 to 1737181\n",
      "Data columns (total 24 columns):\n",
      " #   Column                   Non-Null Count   Dtype  \n",
      "---  ------                   --------------   -----  \n",
      " 0   ride_id                  832175 non-null  object \n",
      " 1   rideable_type            832175 non-null  object \n",
      " 2   started_at               832175 non-null  object \n",
      " 3   ended_at                 832175 non-null  object \n",
      " 4   start_station_name       969130 non-null  object \n",
      " 5   start_station_id         967897 non-null  float64\n",
      " 6   end_station_name         954857 non-null  object \n",
      " 7   end_station_id           953583 non-null  float64\n",
      " 8   start_lat                832175 non-null  float64\n",
      " 9   start_lng                832175 non-null  float64\n",
      " 10  end_lat                  830956 non-null  float64\n",
      " 11  end_lng                  830956 non-null  float64\n",
      " 12  member_casual            832175 non-null  object \n",
      " 13  duration_sec             905007 non-null  float64\n",
      " 14  start_time               905007 non-null  object \n",
      " 15  end_time                 905007 non-null  object \n",
      " 16  start_station_latitude   905007 non-null  float64\n",
      " 17  start_station_longitude  905007 non-null  float64\n",
      " 18  end_station_latitude     905007 non-null  float64\n",
      " 19  end_station_longitude    905007 non-null  float64\n",
      " 20  bike_id                  905007 non-null  float64\n",
      " 21  user_type                905007 non-null  object \n",
      " 22  rental_access_method     617858 non-null  object \n",
      " 23  is_equity                138251 non-null  object \n",
      "dtypes: float64(12), object(12)\n",
      "memory usage: 318.1+ MB\n"
     ]
    }
   ],
   "source": [
    "df_2020.info(verbose = True, null_counts = True)"
   ]
  },
  {
   "cell_type": "markdown",
   "metadata": {
    "slideshow": {
     "slide_type": "slide"
    }
   },
   "source": [
    "## 2.2.2. Checking the Null, None and Missing Data <a class=\"anchor\" id=\"CheckingMissingData\"></a>"
   ]
  },
  {
   "cell_type": "code",
   "execution_count": 133,
   "metadata": {
    "slideshow": {
     "slide_type": "subslide"
    }
   },
   "outputs": [
    {
     "data": {
      "text/plain": [
       "end_station_name           11771\n",
       "end_station_id             11771\n",
       "start_station_name         11771\n",
       "start_station_id           11771\n",
       "bike_share_for_all_trip        0\n",
       "user_type                      0\n",
       "bike_id                        0\n",
       "end_station_longitude          0\n",
       "end_station_latitude           0\n",
       "start_station_longitude        0\n",
       "start_station_latitude         0\n",
       "end_time                       0\n",
       "start_time                     0\n",
       "duration_sec                   0\n",
       "dtype: int64"
      ]
     },
     "execution_count": 133,
     "metadata": {},
     "output_type": "execute_result"
    }
   ],
   "source": [
    "df_2018.isnull().sum().sort_values(ascending=False)"
   ]
  },
  {
   "cell_type": "code",
   "execution_count": 134,
   "metadata": {
    "slideshow": {
     "slide_type": "subslide"
    }
   },
   "outputs": [
    {
     "data": {
      "text/plain": [
       "rental_access_method       2386145\n",
       "bike_share_for_all_trip     243259\n",
       "end_station_id               82902\n",
       "end_station_name             82350\n",
       "start_station_id             80734\n",
       "start_station_name           80133\n",
       "user_type                        0\n",
       "bike_id                          0\n",
       "end_station_longitude            0\n",
       "end_station_latitude             0\n",
       "start_station_longitude          0\n",
       "start_station_latitude           0\n",
       "end_time                         0\n",
       "start_time                       0\n",
       "duration_sec                     0\n",
       "dtype: int64"
      ]
     },
     "execution_count": 134,
     "metadata": {},
     "output_type": "execute_result"
    }
   ],
   "source": [
    "df_2019.isnull().sum().sort_values(ascending=False)"
   ]
  },
  {
   "cell_type": "code",
   "execution_count": 135,
   "metadata": {
    "slideshow": {
     "slide_type": "subslide"
    }
   },
   "outputs": [
    {
     "data": {
      "text/plain": [
       "is_equity                  1598931\n",
       "rental_access_method       1119324\n",
       "end_lat                     906226\n",
       "end_lng                     906226\n",
       "start_lng                   905007\n",
       "member_casual               905007\n",
       "rideable_type               905007\n",
       "started_at                  905007\n",
       "ended_at                    905007\n",
       "start_lat                   905007\n",
       "ride_id                     905007\n",
       "duration_sec                832175\n",
       "bike_id                     832175\n",
       "user_type                   832175\n",
       "end_station_latitude        832175\n",
       "start_time                  832175\n",
       "end_time                    832175\n",
       "start_station_latitude      832175\n",
       "start_station_longitude     832175\n",
       "end_station_longitude       832175\n",
       "end_station_id              783599\n",
       "end_station_name            782325\n",
       "start_station_id            769285\n",
       "start_station_name          768052\n",
       "dtype: int64"
      ]
     },
     "execution_count": 135,
     "metadata": {},
     "output_type": "execute_result"
    }
   ],
   "source": [
    "df_2020.isnull().sum().sort_values(ascending=False)"
   ]
  },
  {
   "cell_type": "markdown",
   "metadata": {
    "slideshow": {
     "slide_type": "slide"
    }
   },
   "source": [
    "## 2.2.3. Checking the Duplicate Data <a class=\"anchor\" id=\"CheckingDuplicateData\"></a>"
   ]
  },
  {
   "cell_type": "code",
   "execution_count": 136,
   "metadata": {
    "slideshow": {
     "slide_type": "subslide"
    }
   },
   "outputs": [
    {
     "data": {
      "text/plain": [
       "0"
      ]
     },
     "execution_count": 136,
     "metadata": {},
     "output_type": "execute_result"
    }
   ],
   "source": [
    "df_2018.duplicated().sum()"
   ]
  },
  {
   "cell_type": "code",
   "execution_count": 137,
   "metadata": {
    "slideshow": {
     "slide_type": "subslide"
    }
   },
   "outputs": [
    {
     "data": {
      "text/plain": [
       "0"
      ]
     },
     "execution_count": 137,
     "metadata": {},
     "output_type": "execute_result"
    }
   ],
   "source": [
    "df_2019.duplicated().sum()"
   ]
  },
  {
   "cell_type": "code",
   "execution_count": 138,
   "metadata": {
    "slideshow": {
     "slide_type": "subslide"
    }
   },
   "outputs": [
    {
     "data": {
      "text/plain": [
       "7512"
      ]
     },
     "execution_count": 138,
     "metadata": {},
     "output_type": "execute_result"
    }
   ],
   "source": [
    "df_2020.duplicated().sum()"
   ]
  },
  {
   "cell_type": "code",
   "execution_count": 139,
   "metadata": {},
   "outputs": [
    {
     "data": {
      "text/plain": [
       "(1737182, 24)"
      ]
     },
     "execution_count": 139,
     "metadata": {},
     "output_type": "execute_result"
    }
   ],
   "source": [
    "df_2020.shape"
   ]
  },
  {
   "cell_type": "code",
   "execution_count": 140,
   "metadata": {},
   "outputs": [],
   "source": [
    "df_2020.drop_duplicates(inplace = True)"
   ]
  },
  {
   "cell_type": "code",
   "execution_count": 141,
   "metadata": {},
   "outputs": [
    {
     "data": {
      "text/plain": [
       "(1729670, 24)"
      ]
     },
     "execution_count": 141,
     "metadata": {},
     "output_type": "execute_result"
    }
   ],
   "source": [
    "df_2020.shape"
   ]
  },
  {
   "cell_type": "markdown",
   "metadata": {
    "slideshow": {
     "slide_type": "slide"
    }
   },
   "source": [
    "## 2.2.4. Quick Look the Datasets <a class=\"anchor\" id=\"Quicklook\"></a>"
   ]
  },
  {
   "cell_type": "code",
   "execution_count": 142,
   "metadata": {
    "slideshow": {
     "slide_type": "subslide"
    }
   },
   "outputs": [
    {
     "data": {
      "text/html": [
       "<div>\n",
       "<style scoped>\n",
       "    .dataframe tbody tr th:only-of-type {\n",
       "        vertical-align: middle;\n",
       "    }\n",
       "\n",
       "    .dataframe tbody tr th {\n",
       "        vertical-align: top;\n",
       "    }\n",
       "\n",
       "    .dataframe thead th {\n",
       "        text-align: right;\n",
       "    }\n",
       "</style>\n",
       "<table border=\"1\" class=\"dataframe\">\n",
       "  <thead>\n",
       "    <tr style=\"text-align: right;\">\n",
       "      <th></th>\n",
       "      <th>duration_sec</th>\n",
       "      <th>start_time</th>\n",
       "      <th>end_time</th>\n",
       "      <th>start_station_id</th>\n",
       "      <th>start_station_name</th>\n",
       "      <th>start_station_latitude</th>\n",
       "      <th>start_station_longitude</th>\n",
       "      <th>end_station_id</th>\n",
       "      <th>end_station_name</th>\n",
       "      <th>end_station_latitude</th>\n",
       "      <th>end_station_longitude</th>\n",
       "      <th>bike_id</th>\n",
       "      <th>user_type</th>\n",
       "      <th>bike_share_for_all_trip</th>\n",
       "    </tr>\n",
       "  </thead>\n",
       "  <tbody>\n",
       "    <tr>\n",
       "      <th>0</th>\n",
       "      <td>598</td>\n",
       "      <td>2018-02-28 23:59:47.0970</td>\n",
       "      <td>2018-03-01 00:09:45.1870</td>\n",
       "      <td>284.0</td>\n",
       "      <td>Yerba Buena Center for the Arts (Howard St at ...</td>\n",
       "      <td>37.784872</td>\n",
       "      <td>-122.400876</td>\n",
       "      <td>114.0</td>\n",
       "      <td>Rhode Island St at 17th St</td>\n",
       "      <td>37.764478</td>\n",
       "      <td>-122.402570</td>\n",
       "      <td>1035</td>\n",
       "      <td>Subscriber</td>\n",
       "      <td>No</td>\n",
       "    </tr>\n",
       "    <tr>\n",
       "      <th>1</th>\n",
       "      <td>943</td>\n",
       "      <td>2018-02-28 23:21:16.4950</td>\n",
       "      <td>2018-02-28 23:36:59.9740</td>\n",
       "      <td>6.0</td>\n",
       "      <td>The Embarcadero at Sansome St</td>\n",
       "      <td>37.804770</td>\n",
       "      <td>-122.403234</td>\n",
       "      <td>324.0</td>\n",
       "      <td>Union Square (Powell St at Post St)</td>\n",
       "      <td>37.788300</td>\n",
       "      <td>-122.408531</td>\n",
       "      <td>1673</td>\n",
       "      <td>Customer</td>\n",
       "      <td>No</td>\n",
       "    </tr>\n",
       "    <tr>\n",
       "      <th>2</th>\n",
       "      <td>18587</td>\n",
       "      <td>2018-02-28 18:20:55.1900</td>\n",
       "      <td>2018-02-28 23:30:42.9250</td>\n",
       "      <td>93.0</td>\n",
       "      <td>4th St at Mission Bay Blvd S</td>\n",
       "      <td>37.770407</td>\n",
       "      <td>-122.391198</td>\n",
       "      <td>15.0</td>\n",
       "      <td>San Francisco Ferry Building (Harry Bridges Pl...</td>\n",
       "      <td>37.795392</td>\n",
       "      <td>-122.394203</td>\n",
       "      <td>3498</td>\n",
       "      <td>Customer</td>\n",
       "      <td>No</td>\n",
       "    </tr>\n",
       "    <tr>\n",
       "      <th>3</th>\n",
       "      <td>18558</td>\n",
       "      <td>2018-02-28 18:20:53.6210</td>\n",
       "      <td>2018-02-28 23:30:12.4500</td>\n",
       "      <td>93.0</td>\n",
       "      <td>4th St at Mission Bay Blvd S</td>\n",
       "      <td>37.770407</td>\n",
       "      <td>-122.391198</td>\n",
       "      <td>15.0</td>\n",
       "      <td>San Francisco Ferry Building (Harry Bridges Pl...</td>\n",
       "      <td>37.795392</td>\n",
       "      <td>-122.394203</td>\n",
       "      <td>3129</td>\n",
       "      <td>Customer</td>\n",
       "      <td>No</td>\n",
       "    </tr>\n",
       "    <tr>\n",
       "      <th>4</th>\n",
       "      <td>885</td>\n",
       "      <td>2018-02-28 23:15:12.8580</td>\n",
       "      <td>2018-02-28 23:29:58.6080</td>\n",
       "      <td>308.0</td>\n",
       "      <td>San Pedro Square</td>\n",
       "      <td>37.336802</td>\n",
       "      <td>-121.894090</td>\n",
       "      <td>297.0</td>\n",
       "      <td>Locust St at Grant St</td>\n",
       "      <td>37.322980</td>\n",
       "      <td>-121.887931</td>\n",
       "      <td>1839</td>\n",
       "      <td>Subscriber</td>\n",
       "      <td>Yes</td>\n",
       "    </tr>\n",
       "    <tr>\n",
       "      <th>5</th>\n",
       "      <td>921</td>\n",
       "      <td>2018-02-28 23:14:19.1700</td>\n",
       "      <td>2018-02-28 23:29:40.4370</td>\n",
       "      <td>312.0</td>\n",
       "      <td>San Jose Diridon Station</td>\n",
       "      <td>37.329732</td>\n",
       "      <td>-121.901782</td>\n",
       "      <td>288.0</td>\n",
       "      <td>Mission St at 1st St</td>\n",
       "      <td>37.350964</td>\n",
       "      <td>-121.902016</td>\n",
       "      <td>2656</td>\n",
       "      <td>Customer</td>\n",
       "      <td>No</td>\n",
       "    </tr>\n",
       "    <tr>\n",
       "      <th>6</th>\n",
       "      <td>277</td>\n",
       "      <td>2018-02-28 23:21:49.2740</td>\n",
       "      <td>2018-02-28 23:26:27.2220</td>\n",
       "      <td>316.0</td>\n",
       "      <td>San Salvador St at 1st St</td>\n",
       "      <td>37.330165</td>\n",
       "      <td>-121.885831</td>\n",
       "      <td>310.0</td>\n",
       "      <td>San Fernando St at 4th St</td>\n",
       "      <td>37.335885</td>\n",
       "      <td>-121.885660</td>\n",
       "      <td>1616</td>\n",
       "      <td>Subscriber</td>\n",
       "      <td>No</td>\n",
       "    </tr>\n",
       "    <tr>\n",
       "      <th>7</th>\n",
       "      <td>285</td>\n",
       "      <td>2018-02-28 23:21:19.6310</td>\n",
       "      <td>2018-02-28 23:26:05.4050</td>\n",
       "      <td>198.0</td>\n",
       "      <td>Snow Park</td>\n",
       "      <td>37.807813</td>\n",
       "      <td>-122.264496</td>\n",
       "      <td>196.0</td>\n",
       "      <td>Grand Ave at Perkins St</td>\n",
       "      <td>37.808894</td>\n",
       "      <td>-122.256460</td>\n",
       "      <td>144</td>\n",
       "      <td>Subscriber</td>\n",
       "      <td>No</td>\n",
       "    </tr>\n",
       "    <tr>\n",
       "      <th>8</th>\n",
       "      <td>363</td>\n",
       "      <td>2018-02-28 23:19:18.6060</td>\n",
       "      <td>2018-02-28 23:25:22.2740</td>\n",
       "      <td>176.0</td>\n",
       "      <td>MacArthur BART Station</td>\n",
       "      <td>37.828410</td>\n",
       "      <td>-122.266315</td>\n",
       "      <td>189.0</td>\n",
       "      <td>Genoa St at 55th St</td>\n",
       "      <td>37.839649</td>\n",
       "      <td>-122.271756</td>\n",
       "      <td>3351</td>\n",
       "      <td>Subscriber</td>\n",
       "      <td>No</td>\n",
       "    </tr>\n",
       "    <tr>\n",
       "      <th>9</th>\n",
       "      <td>226</td>\n",
       "      <td>2018-02-28 23:15:20.0330</td>\n",
       "      <td>2018-02-28 23:19:06.6200</td>\n",
       "      <td>295.0</td>\n",
       "      <td>William St at 10th St</td>\n",
       "      <td>37.332794</td>\n",
       "      <td>-121.875926</td>\n",
       "      <td>327.0</td>\n",
       "      <td>5th St at San Salvador St</td>\n",
       "      <td>37.332039</td>\n",
       "      <td>-121.881766</td>\n",
       "      <td>1699</td>\n",
       "      <td>Subscriber</td>\n",
       "      <td>Yes</td>\n",
       "    </tr>\n",
       "  </tbody>\n",
       "</table>\n",
       "</div>"
      ],
      "text/plain": [
       "   duration_sec                start_time                  end_time  \\\n",
       "0           598  2018-02-28 23:59:47.0970  2018-03-01 00:09:45.1870   \n",
       "1           943  2018-02-28 23:21:16.4950  2018-02-28 23:36:59.9740   \n",
       "2         18587  2018-02-28 18:20:55.1900  2018-02-28 23:30:42.9250   \n",
       "3         18558  2018-02-28 18:20:53.6210  2018-02-28 23:30:12.4500   \n",
       "4           885  2018-02-28 23:15:12.8580  2018-02-28 23:29:58.6080   \n",
       "5           921  2018-02-28 23:14:19.1700  2018-02-28 23:29:40.4370   \n",
       "6           277  2018-02-28 23:21:49.2740  2018-02-28 23:26:27.2220   \n",
       "7           285  2018-02-28 23:21:19.6310  2018-02-28 23:26:05.4050   \n",
       "8           363  2018-02-28 23:19:18.6060  2018-02-28 23:25:22.2740   \n",
       "9           226  2018-02-28 23:15:20.0330  2018-02-28 23:19:06.6200   \n",
       "\n",
       "   start_station_id                                 start_station_name  \\\n",
       "0             284.0  Yerba Buena Center for the Arts (Howard St at ...   \n",
       "1               6.0                      The Embarcadero at Sansome St   \n",
       "2              93.0                       4th St at Mission Bay Blvd S   \n",
       "3              93.0                       4th St at Mission Bay Blvd S   \n",
       "4             308.0                                   San Pedro Square   \n",
       "5             312.0                           San Jose Diridon Station   \n",
       "6             316.0                          San Salvador St at 1st St   \n",
       "7             198.0                                          Snow Park   \n",
       "8             176.0                             MacArthur BART Station   \n",
       "9             295.0                              William St at 10th St   \n",
       "\n",
       "   start_station_latitude  start_station_longitude  end_station_id  \\\n",
       "0               37.784872              -122.400876           114.0   \n",
       "1               37.804770              -122.403234           324.0   \n",
       "2               37.770407              -122.391198            15.0   \n",
       "3               37.770407              -122.391198            15.0   \n",
       "4               37.336802              -121.894090           297.0   \n",
       "5               37.329732              -121.901782           288.0   \n",
       "6               37.330165              -121.885831           310.0   \n",
       "7               37.807813              -122.264496           196.0   \n",
       "8               37.828410              -122.266315           189.0   \n",
       "9               37.332794              -121.875926           327.0   \n",
       "\n",
       "                                    end_station_name  end_station_latitude  \\\n",
       "0                         Rhode Island St at 17th St             37.764478   \n",
       "1                Union Square (Powell St at Post St)             37.788300   \n",
       "2  San Francisco Ferry Building (Harry Bridges Pl...             37.795392   \n",
       "3  San Francisco Ferry Building (Harry Bridges Pl...             37.795392   \n",
       "4                              Locust St at Grant St             37.322980   \n",
       "5                               Mission St at 1st St             37.350964   \n",
       "6                          San Fernando St at 4th St             37.335885   \n",
       "7                            Grand Ave at Perkins St             37.808894   \n",
       "8                                Genoa St at 55th St             37.839649   \n",
       "9                          5th St at San Salvador St             37.332039   \n",
       "\n",
       "   end_station_longitude  bike_id   user_type bike_share_for_all_trip  \n",
       "0            -122.402570     1035  Subscriber                      No  \n",
       "1            -122.408531     1673    Customer                      No  \n",
       "2            -122.394203     3498    Customer                      No  \n",
       "3            -122.394203     3129    Customer                      No  \n",
       "4            -121.887931     1839  Subscriber                     Yes  \n",
       "5            -121.902016     2656    Customer                      No  \n",
       "6            -121.885660     1616  Subscriber                      No  \n",
       "7            -122.256460      144  Subscriber                      No  \n",
       "8            -122.271756     3351  Subscriber                      No  \n",
       "9            -121.881766     1699  Subscriber                     Yes  "
      ]
     },
     "execution_count": 142,
     "metadata": {},
     "output_type": "execute_result"
    }
   ],
   "source": [
    "df_2018.head(10)"
   ]
  },
  {
   "cell_type": "code",
   "execution_count": 143,
   "metadata": {},
   "outputs": [
    {
     "data": {
      "text/html": [
       "<div>\n",
       "<style scoped>\n",
       "    .dataframe tbody tr th:only-of-type {\n",
       "        vertical-align: middle;\n",
       "    }\n",
       "\n",
       "    .dataframe tbody tr th {\n",
       "        vertical-align: top;\n",
       "    }\n",
       "\n",
       "    .dataframe thead th {\n",
       "        text-align: right;\n",
       "    }\n",
       "</style>\n",
       "<table border=\"1\" class=\"dataframe\">\n",
       "  <thead>\n",
       "    <tr style=\"text-align: right;\">\n",
       "      <th></th>\n",
       "      <th>duration_sec</th>\n",
       "      <th>start_time</th>\n",
       "      <th>end_time</th>\n",
       "      <th>start_station_id</th>\n",
       "      <th>start_station_name</th>\n",
       "      <th>start_station_latitude</th>\n",
       "      <th>start_station_longitude</th>\n",
       "      <th>end_station_id</th>\n",
       "      <th>end_station_name</th>\n",
       "      <th>end_station_latitude</th>\n",
       "      <th>end_station_longitude</th>\n",
       "      <th>bike_id</th>\n",
       "      <th>user_type</th>\n",
       "      <th>bike_share_for_all_trip</th>\n",
       "      <th>rental_access_method</th>\n",
       "    </tr>\n",
       "  </thead>\n",
       "  <tbody>\n",
       "    <tr>\n",
       "      <th>0</th>\n",
       "      <td>60863</td>\n",
       "      <td>2019-09-30 11:48:02.7100</td>\n",
       "      <td>2019-10-01 04:42:25.8640</td>\n",
       "      <td>465.0</td>\n",
       "      <td>San Francisco Caltrain Station (King St at 4th...</td>\n",
       "      <td>37.776329</td>\n",
       "      <td>-122.394438</td>\n",
       "      <td>465.0</td>\n",
       "      <td>San Francisco Caltrain Station (King St at 4th...</td>\n",
       "      <td>37.776329</td>\n",
       "      <td>-122.394438</td>\n",
       "      <td>12904</td>\n",
       "      <td>Customer</td>\n",
       "      <td>No</td>\n",
       "      <td>NaN</td>\n",
       "    </tr>\n",
       "    <tr>\n",
       "      <th>1</th>\n",
       "      <td>36019</td>\n",
       "      <td>2019-09-30 16:16:32.3530</td>\n",
       "      <td>2019-10-01 02:16:51.9820</td>\n",
       "      <td>294.0</td>\n",
       "      <td>Pierce Ave at Market St</td>\n",
       "      <td>37.327581</td>\n",
       "      <td>-121.884559</td>\n",
       "      <td>443.0</td>\n",
       "      <td>3rd St at Keyes St</td>\n",
       "      <td>37.320866</td>\n",
       "      <td>-121.876279</td>\n",
       "      <td>163</td>\n",
       "      <td>Customer</td>\n",
       "      <td>No</td>\n",
       "      <td>NaN</td>\n",
       "    </tr>\n",
       "    <tr>\n",
       "      <th>2</th>\n",
       "      <td>5615</td>\n",
       "      <td>2019-09-30 23:12:25.9980</td>\n",
       "      <td>2019-10-01 00:46:01.9590</td>\n",
       "      <td>370.0</td>\n",
       "      <td>Jones St at Post St</td>\n",
       "      <td>37.787327</td>\n",
       "      <td>-122.413278</td>\n",
       "      <td>4.0</td>\n",
       "      <td>Cyril Magnin St at Ellis St</td>\n",
       "      <td>37.785881</td>\n",
       "      <td>-122.408915</td>\n",
       "      <td>10737</td>\n",
       "      <td>Customer</td>\n",
       "      <td>No</td>\n",
       "      <td>NaN</td>\n",
       "    </tr>\n",
       "    <tr>\n",
       "      <th>3</th>\n",
       "      <td>1482</td>\n",
       "      <td>2019-09-30 23:57:34.6630</td>\n",
       "      <td>2019-10-01 00:22:16.8490</td>\n",
       "      <td>109.0</td>\n",
       "      <td>17th St at Valencia St</td>\n",
       "      <td>37.763316</td>\n",
       "      <td>-122.421904</td>\n",
       "      <td>460.0</td>\n",
       "      <td>Terry Francois Blvd at Warriors Way</td>\n",
       "      <td>37.769095</td>\n",
       "      <td>-122.386333</td>\n",
       "      <td>10346</td>\n",
       "      <td>Customer</td>\n",
       "      <td>No</td>\n",
       "      <td>NaN</td>\n",
       "    </tr>\n",
       "    <tr>\n",
       "      <th>4</th>\n",
       "      <td>1272</td>\n",
       "      <td>2019-09-30 23:53:28.6530</td>\n",
       "      <td>2019-10-01 00:14:41.0740</td>\n",
       "      <td>95.0</td>\n",
       "      <td>Sanchez St at 15th St</td>\n",
       "      <td>37.766219</td>\n",
       "      <td>-122.431060</td>\n",
       "      <td>127.0</td>\n",
       "      <td>Valencia St at 21st St</td>\n",
       "      <td>37.756708</td>\n",
       "      <td>-122.421025</td>\n",
       "      <td>1349</td>\n",
       "      <td>Subscriber</td>\n",
       "      <td>No</td>\n",
       "      <td>NaN</td>\n",
       "    </tr>\n",
       "    <tr>\n",
       "      <th>5</th>\n",
       "      <td>8648</td>\n",
       "      <td>2019-09-30 21:43:51.0140</td>\n",
       "      <td>2019-10-01 00:07:59.8930</td>\n",
       "      <td>11.0</td>\n",
       "      <td>Davis St at Jackson St</td>\n",
       "      <td>37.797280</td>\n",
       "      <td>-122.398436</td>\n",
       "      <td>3.0</td>\n",
       "      <td>Powell St BART Station (Market St at 4th St)</td>\n",
       "      <td>37.786375</td>\n",
       "      <td>-122.404904</td>\n",
       "      <td>9806</td>\n",
       "      <td>Customer</td>\n",
       "      <td>No</td>\n",
       "      <td>NaN</td>\n",
       "    </tr>\n",
       "    <tr>\n",
       "      <th>6</th>\n",
       "      <td>644</td>\n",
       "      <td>2019-09-30 23:54:43.1040</td>\n",
       "      <td>2019-10-01 00:05:27.6560</td>\n",
       "      <td>15.0</td>\n",
       "      <td>San Francisco Ferry Building (Harry Bridges Pl...</td>\n",
       "      <td>37.795392</td>\n",
       "      <td>-122.394203</td>\n",
       "      <td>91.0</td>\n",
       "      <td>Berry St at King St</td>\n",
       "      <td>37.771762</td>\n",
       "      <td>-122.398438</td>\n",
       "      <td>9963</td>\n",
       "      <td>Subscriber</td>\n",
       "      <td>No</td>\n",
       "      <td>NaN</td>\n",
       "    </tr>\n",
       "    <tr>\n",
       "      <th>7</th>\n",
       "      <td>459</td>\n",
       "      <td>2019-09-30 23:54:42.8650</td>\n",
       "      <td>2019-10-01 00:02:22.3630</td>\n",
       "      <td>321.0</td>\n",
       "      <td>5th St at Folsom</td>\n",
       "      <td>37.780146</td>\n",
       "      <td>-122.403071</td>\n",
       "      <td>77.0</td>\n",
       "      <td>11th St at Natoma St</td>\n",
       "      <td>37.773507</td>\n",
       "      <td>-122.416040</td>\n",
       "      <td>531</td>\n",
       "      <td>Subscriber</td>\n",
       "      <td>No</td>\n",
       "      <td>NaN</td>\n",
       "    </tr>\n",
       "    <tr>\n",
       "      <th>8</th>\n",
       "      <td>625</td>\n",
       "      <td>2019-09-30 23:49:31.7050</td>\n",
       "      <td>2019-09-30 23:59:56.9160</td>\n",
       "      <td>16.0</td>\n",
       "      <td>Steuart St at Market St</td>\n",
       "      <td>37.794130</td>\n",
       "      <td>-122.394430</td>\n",
       "      <td>80.0</td>\n",
       "      <td>Townsend St at 5th St</td>\n",
       "      <td>37.775235</td>\n",
       "      <td>-122.397437</td>\n",
       "      <td>10906</td>\n",
       "      <td>Subscriber</td>\n",
       "      <td>No</td>\n",
       "      <td>NaN</td>\n",
       "    </tr>\n",
       "    <tr>\n",
       "      <th>9</th>\n",
       "      <td>1177</td>\n",
       "      <td>2019-09-30 23:39:34.0880</td>\n",
       "      <td>2019-09-30 23:59:11.2090</td>\n",
       "      <td>433.0</td>\n",
       "      <td>Gennessee St at Monterey Blvd</td>\n",
       "      <td>37.731657</td>\n",
       "      <td>-122.451122</td>\n",
       "      <td>139.0</td>\n",
       "      <td>Garfield Square (25th St at Harrison St)</td>\n",
       "      <td>37.751017</td>\n",
       "      <td>-122.411901</td>\n",
       "      <td>11058</td>\n",
       "      <td>Customer</td>\n",
       "      <td>No</td>\n",
       "      <td>NaN</td>\n",
       "    </tr>\n",
       "  </tbody>\n",
       "</table>\n",
       "</div>"
      ],
      "text/plain": [
       "   duration_sec                start_time                  end_time  \\\n",
       "0         60863  2019-09-30 11:48:02.7100  2019-10-01 04:42:25.8640   \n",
       "1         36019  2019-09-30 16:16:32.3530  2019-10-01 02:16:51.9820   \n",
       "2          5615  2019-09-30 23:12:25.9980  2019-10-01 00:46:01.9590   \n",
       "3          1482  2019-09-30 23:57:34.6630  2019-10-01 00:22:16.8490   \n",
       "4          1272  2019-09-30 23:53:28.6530  2019-10-01 00:14:41.0740   \n",
       "5          8648  2019-09-30 21:43:51.0140  2019-10-01 00:07:59.8930   \n",
       "6           644  2019-09-30 23:54:43.1040  2019-10-01 00:05:27.6560   \n",
       "7           459  2019-09-30 23:54:42.8650  2019-10-01 00:02:22.3630   \n",
       "8           625  2019-09-30 23:49:31.7050  2019-09-30 23:59:56.9160   \n",
       "9          1177  2019-09-30 23:39:34.0880  2019-09-30 23:59:11.2090   \n",
       "\n",
       "   start_station_id                                 start_station_name  \\\n",
       "0             465.0  San Francisco Caltrain Station (King St at 4th...   \n",
       "1             294.0                            Pierce Ave at Market St   \n",
       "2             370.0                                Jones St at Post St   \n",
       "3             109.0                             17th St at Valencia St   \n",
       "4              95.0                              Sanchez St at 15th St   \n",
       "5              11.0                             Davis St at Jackson St   \n",
       "6              15.0  San Francisco Ferry Building (Harry Bridges Pl...   \n",
       "7             321.0                                   5th St at Folsom   \n",
       "8              16.0                            Steuart St at Market St   \n",
       "9             433.0                      Gennessee St at Monterey Blvd   \n",
       "\n",
       "   start_station_latitude  start_station_longitude  end_station_id  \\\n",
       "0               37.776329              -122.394438           465.0   \n",
       "1               37.327581              -121.884559           443.0   \n",
       "2               37.787327              -122.413278             4.0   \n",
       "3               37.763316              -122.421904           460.0   \n",
       "4               37.766219              -122.431060           127.0   \n",
       "5               37.797280              -122.398436             3.0   \n",
       "6               37.795392              -122.394203            91.0   \n",
       "7               37.780146              -122.403071            77.0   \n",
       "8               37.794130              -122.394430            80.0   \n",
       "9               37.731657              -122.451122           139.0   \n",
       "\n",
       "                                    end_station_name  end_station_latitude  \\\n",
       "0  San Francisco Caltrain Station (King St at 4th...             37.776329   \n",
       "1                                 3rd St at Keyes St             37.320866   \n",
       "2                        Cyril Magnin St at Ellis St             37.785881   \n",
       "3                Terry Francois Blvd at Warriors Way             37.769095   \n",
       "4                             Valencia St at 21st St             37.756708   \n",
       "5       Powell St BART Station (Market St at 4th St)             37.786375   \n",
       "6                                Berry St at King St             37.771762   \n",
       "7                               11th St at Natoma St             37.773507   \n",
       "8                              Townsend St at 5th St             37.775235   \n",
       "9           Garfield Square (25th St at Harrison St)             37.751017   \n",
       "\n",
       "   end_station_longitude  bike_id   user_type bike_share_for_all_trip  \\\n",
       "0            -122.394438    12904    Customer                      No   \n",
       "1            -121.876279      163    Customer                      No   \n",
       "2            -122.408915    10737    Customer                      No   \n",
       "3            -122.386333    10346    Customer                      No   \n",
       "4            -122.421025     1349  Subscriber                      No   \n",
       "5            -122.404904     9806    Customer                      No   \n",
       "6            -122.398438     9963  Subscriber                      No   \n",
       "7            -122.416040      531  Subscriber                      No   \n",
       "8            -122.397437    10906  Subscriber                      No   \n",
       "9            -122.411901    11058    Customer                      No   \n",
       "\n",
       "  rental_access_method  \n",
       "0                  NaN  \n",
       "1                  NaN  \n",
       "2                  NaN  \n",
       "3                  NaN  \n",
       "4                  NaN  \n",
       "5                  NaN  \n",
       "6                  NaN  \n",
       "7                  NaN  \n",
       "8                  NaN  \n",
       "9                  NaN  "
      ]
     },
     "execution_count": 143,
     "metadata": {},
     "output_type": "execute_result"
    }
   ],
   "source": [
    "df_2019.head(10)"
   ]
  },
  {
   "cell_type": "code",
   "execution_count": 144,
   "metadata": {},
   "outputs": [
    {
     "data": {
      "text/html": [
       "<div>\n",
       "<style scoped>\n",
       "    .dataframe tbody tr th:only-of-type {\n",
       "        vertical-align: middle;\n",
       "    }\n",
       "\n",
       "    .dataframe tbody tr th {\n",
       "        vertical-align: top;\n",
       "    }\n",
       "\n",
       "    .dataframe thead th {\n",
       "        text-align: right;\n",
       "    }\n",
       "</style>\n",
       "<table border=\"1\" class=\"dataframe\">\n",
       "  <thead>\n",
       "    <tr style=\"text-align: right;\">\n",
       "      <th></th>\n",
       "      <th>ride_id</th>\n",
       "      <th>rideable_type</th>\n",
       "      <th>started_at</th>\n",
       "      <th>ended_at</th>\n",
       "      <th>start_station_name</th>\n",
       "      <th>start_station_id</th>\n",
       "      <th>end_station_name</th>\n",
       "      <th>end_station_id</th>\n",
       "      <th>start_lat</th>\n",
       "      <th>start_lng</th>\n",
       "      <th>...</th>\n",
       "      <th>start_time</th>\n",
       "      <th>end_time</th>\n",
       "      <th>start_station_latitude</th>\n",
       "      <th>start_station_longitude</th>\n",
       "      <th>end_station_latitude</th>\n",
       "      <th>end_station_longitude</th>\n",
       "      <th>bike_id</th>\n",
       "      <th>user_type</th>\n",
       "      <th>rental_access_method</th>\n",
       "      <th>is_equity</th>\n",
       "    </tr>\n",
       "  </thead>\n",
       "  <tbody>\n",
       "    <tr>\n",
       "      <th>0</th>\n",
       "      <td>08A4A9F7315901F3</td>\n",
       "      <td>electric_bike</td>\n",
       "      <td>2020-06-03 16:37:10</td>\n",
       "      <td>2020-06-03 16:48:28</td>\n",
       "      <td>NaN</td>\n",
       "      <td>NaN</td>\n",
       "      <td>NaN</td>\n",
       "      <td>NaN</td>\n",
       "      <td>37.770000</td>\n",
       "      <td>-122.400000</td>\n",
       "      <td>...</td>\n",
       "      <td>NaN</td>\n",
       "      <td>NaN</td>\n",
       "      <td>NaN</td>\n",
       "      <td>NaN</td>\n",
       "      <td>NaN</td>\n",
       "      <td>NaN</td>\n",
       "      <td>NaN</td>\n",
       "      <td>NaN</td>\n",
       "      <td>NaN</td>\n",
       "      <td>NaN</td>\n",
       "    </tr>\n",
       "    <tr>\n",
       "      <th>1</th>\n",
       "      <td>844F9D906468C441</td>\n",
       "      <td>electric_bike</td>\n",
       "      <td>2020-06-03 12:22:47</td>\n",
       "      <td>2020-06-03 12:44:02</td>\n",
       "      <td>NaN</td>\n",
       "      <td>NaN</td>\n",
       "      <td>NaN</td>\n",
       "      <td>NaN</td>\n",
       "      <td>37.780000</td>\n",
       "      <td>-122.490000</td>\n",
       "      <td>...</td>\n",
       "      <td>NaN</td>\n",
       "      <td>NaN</td>\n",
       "      <td>NaN</td>\n",
       "      <td>NaN</td>\n",
       "      <td>NaN</td>\n",
       "      <td>NaN</td>\n",
       "      <td>NaN</td>\n",
       "      <td>NaN</td>\n",
       "      <td>NaN</td>\n",
       "      <td>NaN</td>\n",
       "    </tr>\n",
       "    <tr>\n",
       "      <th>2</th>\n",
       "      <td>0E441BF8A86C544E</td>\n",
       "      <td>electric_bike</td>\n",
       "      <td>2020-06-02 17:37:43</td>\n",
       "      <td>2020-06-02 17:52:21</td>\n",
       "      <td>Powell St at Columbus Ave</td>\n",
       "      <td>487.0</td>\n",
       "      <td>NaN</td>\n",
       "      <td>NaN</td>\n",
       "      <td>37.800426</td>\n",
       "      <td>-122.410950</td>\n",
       "      <td>...</td>\n",
       "      <td>NaN</td>\n",
       "      <td>NaN</td>\n",
       "      <td>NaN</td>\n",
       "      <td>NaN</td>\n",
       "      <td>NaN</td>\n",
       "      <td>NaN</td>\n",
       "      <td>NaN</td>\n",
       "      <td>NaN</td>\n",
       "      <td>NaN</td>\n",
       "      <td>NaN</td>\n",
       "    </tr>\n",
       "    <tr>\n",
       "      <th>3</th>\n",
       "      <td>CAFE64864422F475</td>\n",
       "      <td>electric_bike</td>\n",
       "      <td>2020-06-02 18:13:01</td>\n",
       "      <td>2020-06-02 18:48:30</td>\n",
       "      <td>NaN</td>\n",
       "      <td>NaN</td>\n",
       "      <td>NaN</td>\n",
       "      <td>NaN</td>\n",
       "      <td>37.760000</td>\n",
       "      <td>-122.410000</td>\n",
       "      <td>...</td>\n",
       "      <td>NaN</td>\n",
       "      <td>NaN</td>\n",
       "      <td>NaN</td>\n",
       "      <td>NaN</td>\n",
       "      <td>NaN</td>\n",
       "      <td>NaN</td>\n",
       "      <td>NaN</td>\n",
       "      <td>NaN</td>\n",
       "      <td>NaN</td>\n",
       "      <td>NaN</td>\n",
       "    </tr>\n",
       "    <tr>\n",
       "      <th>4</th>\n",
       "      <td>172957A20160D568</td>\n",
       "      <td>electric_bike</td>\n",
       "      <td>2020-06-03 15:16:06</td>\n",
       "      <td>2020-06-03 16:06:10</td>\n",
       "      <td>Church St at Duboce Ave</td>\n",
       "      <td>85.0</td>\n",
       "      <td>48th Ave at Cabrillo St</td>\n",
       "      <td>521.0</td>\n",
       "      <td>37.769841</td>\n",
       "      <td>-122.429210</td>\n",
       "      <td>...</td>\n",
       "      <td>NaN</td>\n",
       "      <td>NaN</td>\n",
       "      <td>NaN</td>\n",
       "      <td>NaN</td>\n",
       "      <td>NaN</td>\n",
       "      <td>NaN</td>\n",
       "      <td>NaN</td>\n",
       "      <td>NaN</td>\n",
       "      <td>NaN</td>\n",
       "      <td>NaN</td>\n",
       "    </tr>\n",
       "    <tr>\n",
       "      <th>5</th>\n",
       "      <td>69E225093739C325</td>\n",
       "      <td>electric_bike</td>\n",
       "      <td>2020-06-03 16:10:53</td>\n",
       "      <td>2020-06-03 16:24:42</td>\n",
       "      <td>NaN</td>\n",
       "      <td>NaN</td>\n",
       "      <td>NaN</td>\n",
       "      <td>NaN</td>\n",
       "      <td>37.780000</td>\n",
       "      <td>-122.440000</td>\n",
       "      <td>...</td>\n",
       "      <td>NaN</td>\n",
       "      <td>NaN</td>\n",
       "      <td>NaN</td>\n",
       "      <td>NaN</td>\n",
       "      <td>NaN</td>\n",
       "      <td>NaN</td>\n",
       "      <td>NaN</td>\n",
       "      <td>NaN</td>\n",
       "      <td>NaN</td>\n",
       "      <td>NaN</td>\n",
       "    </tr>\n",
       "    <tr>\n",
       "      <th>6</th>\n",
       "      <td>2694981712A0D672</td>\n",
       "      <td>electric_bike</td>\n",
       "      <td>2020-06-03 16:26:38</td>\n",
       "      <td>2020-06-03 16:30:34</td>\n",
       "      <td>NaN</td>\n",
       "      <td>NaN</td>\n",
       "      <td>NaN</td>\n",
       "      <td>NaN</td>\n",
       "      <td>37.770000</td>\n",
       "      <td>-122.390000</td>\n",
       "      <td>...</td>\n",
       "      <td>NaN</td>\n",
       "      <td>NaN</td>\n",
       "      <td>NaN</td>\n",
       "      <td>NaN</td>\n",
       "      <td>NaN</td>\n",
       "      <td>NaN</td>\n",
       "      <td>NaN</td>\n",
       "      <td>NaN</td>\n",
       "      <td>NaN</td>\n",
       "      <td>NaN</td>\n",
       "    </tr>\n",
       "    <tr>\n",
       "      <th>7</th>\n",
       "      <td>675ADCACD1F825A2</td>\n",
       "      <td>electric_bike</td>\n",
       "      <td>2020-06-03 07:54:46</td>\n",
       "      <td>2020-06-03 08:11:25</td>\n",
       "      <td>NaN</td>\n",
       "      <td>NaN</td>\n",
       "      <td>Yerba Buena Center for the Arts (Howard St at ...</td>\n",
       "      <td>284.0</td>\n",
       "      <td>37.760000</td>\n",
       "      <td>-122.420000</td>\n",
       "      <td>...</td>\n",
       "      <td>NaN</td>\n",
       "      <td>NaN</td>\n",
       "      <td>NaN</td>\n",
       "      <td>NaN</td>\n",
       "      <td>NaN</td>\n",
       "      <td>NaN</td>\n",
       "      <td>NaN</td>\n",
       "      <td>NaN</td>\n",
       "      <td>NaN</td>\n",
       "      <td>NaN</td>\n",
       "    </tr>\n",
       "    <tr>\n",
       "      <th>8</th>\n",
       "      <td>AC29BDD9051D1827</td>\n",
       "      <td>electric_bike</td>\n",
       "      <td>2020-06-03 12:13:30</td>\n",
       "      <td>2020-06-03 12:36:27</td>\n",
       "      <td>Cesar Chavez St at Dolores St</td>\n",
       "      <td>140.0</td>\n",
       "      <td>4th St at 16th St</td>\n",
       "      <td>104.0</td>\n",
       "      <td>37.747758</td>\n",
       "      <td>-122.425121</td>\n",
       "      <td>...</td>\n",
       "      <td>NaN</td>\n",
       "      <td>NaN</td>\n",
       "      <td>NaN</td>\n",
       "      <td>NaN</td>\n",
       "      <td>NaN</td>\n",
       "      <td>NaN</td>\n",
       "      <td>NaN</td>\n",
       "      <td>NaN</td>\n",
       "      <td>NaN</td>\n",
       "      <td>NaN</td>\n",
       "    </tr>\n",
       "    <tr>\n",
       "      <th>9</th>\n",
       "      <td>DA3A000674FF5516</td>\n",
       "      <td>electric_bike</td>\n",
       "      <td>2020-06-03 14:49:24</td>\n",
       "      <td>2020-06-03 15:06:48</td>\n",
       "      <td>NaN</td>\n",
       "      <td>NaN</td>\n",
       "      <td>NaN</td>\n",
       "      <td>NaN</td>\n",
       "      <td>37.810000</td>\n",
       "      <td>-122.410000</td>\n",
       "      <td>...</td>\n",
       "      <td>NaN</td>\n",
       "      <td>NaN</td>\n",
       "      <td>NaN</td>\n",
       "      <td>NaN</td>\n",
       "      <td>NaN</td>\n",
       "      <td>NaN</td>\n",
       "      <td>NaN</td>\n",
       "      <td>NaN</td>\n",
       "      <td>NaN</td>\n",
       "      <td>NaN</td>\n",
       "    </tr>\n",
       "  </tbody>\n",
       "</table>\n",
       "<p>10 rows × 24 columns</p>\n",
       "</div>"
      ],
      "text/plain": [
       "            ride_id  rideable_type           started_at             ended_at  \\\n",
       "0  08A4A9F7315901F3  electric_bike  2020-06-03 16:37:10  2020-06-03 16:48:28   \n",
       "1  844F9D906468C441  electric_bike  2020-06-03 12:22:47  2020-06-03 12:44:02   \n",
       "2  0E441BF8A86C544E  electric_bike  2020-06-02 17:37:43  2020-06-02 17:52:21   \n",
       "3  CAFE64864422F475  electric_bike  2020-06-02 18:13:01  2020-06-02 18:48:30   \n",
       "4  172957A20160D568  electric_bike  2020-06-03 15:16:06  2020-06-03 16:06:10   \n",
       "5  69E225093739C325  electric_bike  2020-06-03 16:10:53  2020-06-03 16:24:42   \n",
       "6  2694981712A0D672  electric_bike  2020-06-03 16:26:38  2020-06-03 16:30:34   \n",
       "7  675ADCACD1F825A2  electric_bike  2020-06-03 07:54:46  2020-06-03 08:11:25   \n",
       "8  AC29BDD9051D1827  electric_bike  2020-06-03 12:13:30  2020-06-03 12:36:27   \n",
       "9  DA3A000674FF5516  electric_bike  2020-06-03 14:49:24  2020-06-03 15:06:48   \n",
       "\n",
       "              start_station_name  start_station_id  \\\n",
       "0                            NaN               NaN   \n",
       "1                            NaN               NaN   \n",
       "2      Powell St at Columbus Ave             487.0   \n",
       "3                            NaN               NaN   \n",
       "4        Church St at Duboce Ave              85.0   \n",
       "5                            NaN               NaN   \n",
       "6                            NaN               NaN   \n",
       "7                            NaN               NaN   \n",
       "8  Cesar Chavez St at Dolores St             140.0   \n",
       "9                            NaN               NaN   \n",
       "\n",
       "                                    end_station_name  end_station_id  \\\n",
       "0                                                NaN             NaN   \n",
       "1                                                NaN             NaN   \n",
       "2                                                NaN             NaN   \n",
       "3                                                NaN             NaN   \n",
       "4                            48th Ave at Cabrillo St           521.0   \n",
       "5                                                NaN             NaN   \n",
       "6                                                NaN             NaN   \n",
       "7  Yerba Buena Center for the Arts (Howard St at ...           284.0   \n",
       "8                                  4th St at 16th St           104.0   \n",
       "9                                                NaN             NaN   \n",
       "\n",
       "   start_lat   start_lng  ...  start_time  end_time start_station_latitude  \\\n",
       "0  37.770000 -122.400000  ...         NaN       NaN                    NaN   \n",
       "1  37.780000 -122.490000  ...         NaN       NaN                    NaN   \n",
       "2  37.800426 -122.410950  ...         NaN       NaN                    NaN   \n",
       "3  37.760000 -122.410000  ...         NaN       NaN                    NaN   \n",
       "4  37.769841 -122.429210  ...         NaN       NaN                    NaN   \n",
       "5  37.780000 -122.440000  ...         NaN       NaN                    NaN   \n",
       "6  37.770000 -122.390000  ...         NaN       NaN                    NaN   \n",
       "7  37.760000 -122.420000  ...         NaN       NaN                    NaN   \n",
       "8  37.747758 -122.425121  ...         NaN       NaN                    NaN   \n",
       "9  37.810000 -122.410000  ...         NaN       NaN                    NaN   \n",
       "\n",
       "   start_station_longitude end_station_latitude end_station_longitude  \\\n",
       "0                      NaN                  NaN                   NaN   \n",
       "1                      NaN                  NaN                   NaN   \n",
       "2                      NaN                  NaN                   NaN   \n",
       "3                      NaN                  NaN                   NaN   \n",
       "4                      NaN                  NaN                   NaN   \n",
       "5                      NaN                  NaN                   NaN   \n",
       "6                      NaN                  NaN                   NaN   \n",
       "7                      NaN                  NaN                   NaN   \n",
       "8                      NaN                  NaN                   NaN   \n",
       "9                      NaN                  NaN                   NaN   \n",
       "\n",
       "   bike_id  user_type  rental_access_method  is_equity  \n",
       "0      NaN        NaN                   NaN        NaN  \n",
       "1      NaN        NaN                   NaN        NaN  \n",
       "2      NaN        NaN                   NaN        NaN  \n",
       "3      NaN        NaN                   NaN        NaN  \n",
       "4      NaN        NaN                   NaN        NaN  \n",
       "5      NaN        NaN                   NaN        NaN  \n",
       "6      NaN        NaN                   NaN        NaN  \n",
       "7      NaN        NaN                   NaN        NaN  \n",
       "8      NaN        NaN                   NaN        NaN  \n",
       "9      NaN        NaN                   NaN        NaN  \n",
       "\n",
       "[10 rows x 24 columns]"
      ]
     },
     "execution_count": 144,
     "metadata": {},
     "output_type": "execute_result"
    }
   ],
   "source": [
    "df_2020.head(10)"
   ]
  },
  {
   "cell_type": "markdown",
   "metadata": {
    "slideshow": {
     "slide_type": "slide"
    }
   },
   "source": [
    "## 2.2.5. Findings <a class=\"anchor\" id=\"Findings\"></a>"
   ]
  },
  {
   "cell_type": "markdown",
   "metadata": {
    "slideshow": {
     "slide_type": "slide"
    }
   },
   "source": [
    "In the below table, I've compared the columns between three years datasets. There are lots of change as seen in terms of data acquisition.\n",
    "\n",
    "| 2020 | 2019 | 2018 | \n",
    "| -- | -- | -- |\n",
    "| bike_id | bike_id |bike_id |\n",
    "| duration_sec | duration_sec | duration_sec |\n",
    "| end_lat | -- | -- |\n",
    "| end_lng | -- | -- |\n",
    "| end_station_id | end_station_id | end_station_id |\n",
    "| end_station_latitude | end_station_latitude | end_station_latitude |\n",
    "| end_station_longitude | end_station_longitude | end_station_longitude |\n",
    "| end_station_name | end_station_name | end_station_name |\n",
    "| end_time | end_time | end_time |\n",
    "| ended_at | -- | -- |\n",
    "| is_equity | -- | -- |\n",
    "| member_casual | -- | -- |\n",
    "| rental_access_method | rental_access_method | -- |\n",
    "| ride_id | -- | -- |\n",
    "| rideable_type | -- | -- |\n",
    "| start_lat | -- | -- |\n",
    "| start_lng | -- | -- |\n",
    "| start_station_id | start_station_id| start_station_id|\n",
    "| start_station_latitude | start_station_latitude | start_station_latitude |\n",
    "| start_station_longitude | start_station_longitude |start_station_longitude |\n",
    "| start_station_name | start_station_name | start_station_name |\n",
    "| start_time | start_time | start_time |\n",
    "| started_at | -- | -- |\n",
    "| user_type |user_type | user_type |\n",
    "\n",
    "\n",
    "### Highlights from the Column Comparison\n",
    "- 'bike_share_for_all_trip' column is included both in 2018 and 2019 datasets, but not included in the 2020 dataset.\n",
    "- Duration can be calculated in 2018 dataset by extracting between 'start_time' and 'end_time' columns. It means, we can calculate duration in seconds.\n",
    "- We have stations' location data, we can drop 'start_lat','start_lng','end_lat','end_lng' columns.\n",
    "- We also have start and end time columns. We no longer need 'started_at' and 'ended_at' columns.\n",
    "- user_type column gives us enough information about customer type, so I choose to drop 'member_casual' column in 2020 dataset\n",
    "* New feature added in 2020 dataset called rideable_type and is_equity. We will investigate overall features. Thus, I chose to drop that column\n",
    "* Bike_Id columns are in common three dataset, so I do not need 'ride_id' column\n",
    "* Duration_sec column seems inconsistent. I'll drop these columns in 2019 and 2020 dataset. After merging these three csv's, I'll manually calculate the trip duration.\n",
    "\n",
    "**Columns will be dropped:**\n",
    "* _bike_share_for_all_trip_ in 2018 and 2019 dataset\n",
    "* _start_lat_ in 2020 dataset\n",
    "* _start_lng_ in 2020 dataset\n",
    "* _started_at_ in 2020 dataset\n",
    "* _end_lat_ in 2020 dataset\n",
    "* _end_lng_ in 2020 dataset\n",
    "* _ended_at in 2020 dataset\n",
    "* _member_casual_ in 2020 dataset\n",
    "* _rideable_type in 2020 dataset\n",
    "* _ride_id_ in 2020 dataset\n",
    "* _is_equity_ in 2020 dataset\n",
    "\n",
    "\n",
    "**Final Column names in desired order should be:**\n",
    "\n",
    "| Combined Columns |\n",
    "| -- |\n",
    "| bike_id |\n",
    "| duration_sec |\n",
    "| start_time |\n",
    "| end_time |\n",
    "| user_type |\n",
    "| rental_access_method |\n",
    "| start_station_id |\n",
    "| start_station_latitude |\n",
    "| start_station_longitude |\n",
    "| start_station_name |\n",
    "| end_station_id |\n",
    "| end_station_latitude |\n",
    "| end_station_longitude |\n",
    "| end_station_name |\n",
    "\n",
    "**Duplicate data from 2020 dataset should be removed**"
   ]
  },
  {
   "cell_type": "markdown",
   "metadata": {
    "slideshow": {
     "slide_type": "slide"
    }
   },
   "source": [
    "## 2.3. Cleaning the Data <a class=\"anchor\" id=\"CleaningTheData\"></a>"
   ]
  },
  {
   "cell_type": "code",
   "execution_count": 145,
   "metadata": {},
   "outputs": [],
   "source": [
    "# Copying datasets before cleaning\n",
    "df_2018_copy = df_2018.copy()\n",
    "df_2019_copy = df_2019.copy()\n",
    "df_2020_copy = df_2020.copy()"
   ]
  },
  {
   "cell_type": "markdown",
   "metadata": {
    "slideshow": {
     "slide_type": "subslide"
    }
   },
   "source": [
    "### 2.3.1. Missing and Tidy Data <a class=\"anchor\" id=\"Missing-Data\"></a>"
   ]
  },
  {
   "cell_type": "code",
   "execution_count": 146,
   "metadata": {
    "slideshow": {
     "slide_type": "subslide"
    }
   },
   "outputs": [],
   "source": [
    "## Dropping in 2018 Dataset\n",
    "df_2018_copy.drop(columns = 'bike_share_for_all_trip', inplace = True)\n",
    "\n",
    "## Dropping in 2019 Dataset\n",
    "df_2019_copy.drop(columns = ['bike_share_for_all_trip','rental_access_method'], inplace = True)\n",
    "\n",
    "## Dropping in 2020 Dataset\n",
    "df_2020_copy.drop(columns=['start_lat','start_lng','started_at','end_lat','end_lng','ended_at','member_casual','rideable_type','ride_id','is_equity','rental_access_method'], inplace = True)\n"
   ]
  },
  {
   "cell_type": "markdown",
   "metadata": {},
   "source": [
    "#### Testing"
   ]
  },
  {
   "cell_type": "code",
   "execution_count": 147,
   "metadata": {},
   "outputs": [
    {
     "name": "stdout",
     "output_type": "stream",
     "text": [
      "<class 'pandas.core.frame.DataFrame'>\n",
      "RangeIndex: 1863721 entries, 0 to 1863720\n",
      "Data columns (total 13 columns):\n",
      " #   Column                   Dtype  \n",
      "---  ------                   -----  \n",
      " 0   duration_sec             int64  \n",
      " 1   start_time               object \n",
      " 2   end_time                 object \n",
      " 3   start_station_id         float64\n",
      " 4   start_station_name       object \n",
      " 5   start_station_latitude   float64\n",
      " 6   start_station_longitude  float64\n",
      " 7   end_station_id           float64\n",
      " 8   end_station_name         object \n",
      " 9   end_station_latitude     float64\n",
      " 10  end_station_longitude    float64\n",
      " 11  bike_id                  int64  \n",
      " 12  user_type                object \n",
      "dtypes: float64(6), int64(2), object(5)\n",
      "memory usage: 184.8+ MB\n"
     ]
    }
   ],
   "source": [
    "df_2018_copy.info()"
   ]
  },
  {
   "cell_type": "code",
   "execution_count": 148,
   "metadata": {},
   "outputs": [
    {
     "name": "stdout",
     "output_type": "stream",
     "text": [
      "<class 'pandas.core.frame.DataFrame'>\n",
      "RangeIndex: 2506983 entries, 0 to 2506982\n",
      "Data columns (total 13 columns):\n",
      " #   Column                   Dtype  \n",
      "---  ------                   -----  \n",
      " 0   duration_sec             int64  \n",
      " 1   start_time               object \n",
      " 2   end_time                 object \n",
      " 3   start_station_id         float64\n",
      " 4   start_station_name       object \n",
      " 5   start_station_latitude   float64\n",
      " 6   start_station_longitude  float64\n",
      " 7   end_station_id           float64\n",
      " 8   end_station_name         object \n",
      " 9   end_station_latitude     float64\n",
      " 10  end_station_longitude    float64\n",
      " 11  bike_id                  int64  \n",
      " 12  user_type                object \n",
      "dtypes: float64(6), int64(2), object(5)\n",
      "memory usage: 248.6+ MB\n"
     ]
    }
   ],
   "source": [
    "df_2019_copy.info()"
   ]
  },
  {
   "cell_type": "code",
   "execution_count": 149,
   "metadata": {},
   "outputs": [
    {
     "name": "stdout",
     "output_type": "stream",
     "text": [
      "<class 'pandas.core.frame.DataFrame'>\n",
      "Int64Index: 1729670 entries, 0 to 1737181\n",
      "Data columns (total 13 columns):\n",
      " #   Column                   Dtype  \n",
      "---  ------                   -----  \n",
      " 0   start_station_name       object \n",
      " 1   start_station_id         float64\n",
      " 2   end_station_name         object \n",
      " 3   end_station_id           float64\n",
      " 4   duration_sec             float64\n",
      " 5   start_time               object \n",
      " 6   end_time                 object \n",
      " 7   start_station_latitude   float64\n",
      " 8   start_station_longitude  float64\n",
      " 9   end_station_latitude     float64\n",
      " 10  end_station_longitude    float64\n",
      " 11  bike_id                  float64\n",
      " 12  user_type                object \n",
      "dtypes: float64(8), object(5)\n",
      "memory usage: 184.7+ MB\n"
     ]
    }
   ],
   "source": [
    "df_2020_copy.info()"
   ]
  },
  {
   "cell_type": "code",
   "execution_count": 150,
   "metadata": {},
   "outputs": [],
   "source": [
    "# Rearranging Columns in the Datasets as Mentioned Above\n",
    "\n",
    "combined_columns = ['bike_id',\n",
    "'duration_sec',\n",
    "'start_time',\n",
    "'end_time',\n",
    "'user_type',\n",
    "'start_station_id',\n",
    "'start_station_latitude',\n",
    "'start_station_longitude',\n",
    "'start_station_name',\n",
    "'end_station_id',\n",
    "'end_station_latitude',\n",
    "'end_station_longitude',\n",
    "'end_station_name']\n",
    "\n",
    "df_2018_copy = df_2018_copy.reindex(columns=combined_columns)\n",
    "df_2019_copy = df_2019_copy.reindex(columns=combined_columns)\n",
    "df_2020_copy = df_2020_copy.reindex(columns=combined_columns)"
   ]
  },
  {
   "cell_type": "code",
   "execution_count": 151,
   "metadata": {},
   "outputs": [
    {
     "data": {
      "text/plain": [
       "array([ True,  True,  True,  True,  True,  True,  True,  True,  True,\n",
       "        True,  True,  True,  True])"
      ]
     },
     "execution_count": 151,
     "metadata": {},
     "output_type": "execute_result"
    }
   ],
   "source": [
    "# Checking the Column Name Matching\n",
    "df_2020_copy.columns == df_2019_copy.columns"
   ]
  },
  {
   "cell_type": "code",
   "execution_count": 153,
   "metadata": {},
   "outputs": [],
   "source": [
    "df_2018_copy.to_csv('2018Cleaned.csv', index = False)\n",
    "df_2019_copy.to_csv('2019Cleaned.csv', index = False)\n",
    "df_2020_copy.to_csv('2020Cleaned.csv', index = False)"
   ]
  },
  {
   "cell_type": "code",
   "execution_count": 155,
   "metadata": {},
   "outputs": [],
   "source": [
    "# Concat and save three datasets into one\n",
    "path = r'/Users/berktezkosar/Desktop/BayWheels/'\n",
    "files = glob.glob(os.path.join(path, \"*Cleaned.csv\"))\n",
    "df = pd.concat((pd.read_csv(f) for f in files), ignore_index = True)\n",
    "df.to_csv('baywheels_combined.csv', index = False)"
   ]
  },
  {
   "cell_type": "markdown",
   "metadata": {
    "slideshow": {
     "slide_type": "slide"
    }
   },
   "source": [
    "### 2.3.2. Data Quality <a class=\"anchor\" id=\"Data-Quality\"></a>"
   ]
  },
  {
   "cell_type": "markdown",
   "metadata": {
    "slideshow": {
     "slide_type": "subslide"
    }
   },
   "source": [
    "- The time variables in this dataset are all string. They need to be converted to datetime format for the analysis.\n",
    "- The time variables can be broken down into time of day, day of the week, or month of the year."
   ]
  },
  {
   "cell_type": "markdown",
   "metadata": {
    "slideshow": {
     "slide_type": "slide"
    }
   },
   "source": [
    "# 3. ANALYSIS & VISULIZATIONS <a class=\"anchor\" id=\"ANALYSIS-VISULIZATIONS\"></a>"
   ]
  },
  {
   "cell_type": "markdown",
   "metadata": {
    "slideshow": {
     "slide_type": "subslide"
    }
   },
   "source": [
    "Before starting the analysis, let's check again the dataset for duplicates and null datas."
   ]
  },
  {
   "cell_type": "code",
   "execution_count": 98,
   "metadata": {},
   "outputs": [],
   "source": [
    "baywheels = pd.read_csv('baywheels_combined.csv')"
   ]
  },
  {
   "cell_type": "code",
   "execution_count": 99,
   "metadata": {},
   "outputs": [
    {
     "name": "stdout",
     "output_type": "stream",
     "text": [
      "Shape of the data before cleaning is  (6100374, 13)\n",
      "Shape of the data after cleaning is  (4604284, 13)\n"
     ]
    }
   ],
   "source": [
    "print('Shape of the data before cleaning is ', baywheels.shape)\n",
    "baywheels.dropna(inplace = True)\n",
    "print('Shape of the data after cleaning is ', baywheels.shape)"
   ]
  },
  {
   "cell_type": "code",
   "execution_count": 100,
   "metadata": {},
   "outputs": [
    {
     "data": {
      "text/plain": [
       "0"
      ]
     },
     "execution_count": 100,
     "metadata": {},
     "output_type": "execute_result"
    }
   ],
   "source": [
    "baywheels.duplicated().sum()"
   ]
  },
  {
   "cell_type": "code",
   "execution_count": 7,
   "metadata": {},
   "outputs": [
    {
     "name": "stdout",
     "output_type": "stream",
     "text": [
      "There are total of 4604284 trips from 2018 to the present\n",
      "\n",
      "<class 'pandas.core.frame.DataFrame'>\n",
      "Int64Index: 4604284 entries, 0 to 5799590\n",
      "Data columns (total 15 columns):\n",
      " #   Column                   Dtype         \n",
      "---  ------                   -----         \n",
      " 0   bike_id                  float64       \n",
      " 1   duration_sec             float64       \n",
      " 2   start_time               datetime64[ns]\n",
      " 3   end_time                 datetime64[ns]\n",
      " 4   user_type                object        \n",
      " 5   start_station_id         float64       \n",
      " 6   start_station_latitude   float64       \n",
      " 7   start_station_longitude  float64       \n",
      " 8   start_station_name       object        \n",
      " 9   end_station_id           float64       \n",
      " 10  end_station_latitude     float64       \n",
      " 11  end_station_longitude    float64       \n",
      " 12  end_station_name         object        \n",
      " 13  start_time_date          object        \n",
      " 14  end_time_date            object        \n",
      "dtypes: datetime64[ns](2), float64(8), object(5)\n",
      "memory usage: 562.0+ MB\n",
      "None\n",
      "\n"
     ]
    },
    {
     "data": {
      "text/html": [
       "<div>\n",
       "<style scoped>\n",
       "    .dataframe tbody tr th:only-of-type {\n",
       "        vertical-align: middle;\n",
       "    }\n",
       "\n",
       "    .dataframe tbody tr th {\n",
       "        vertical-align: top;\n",
       "    }\n",
       "\n",
       "    .dataframe thead th {\n",
       "        text-align: right;\n",
       "    }\n",
       "</style>\n",
       "<table border=\"1\" class=\"dataframe\">\n",
       "  <thead>\n",
       "    <tr style=\"text-align: right;\">\n",
       "      <th></th>\n",
       "      <th>bike_id</th>\n",
       "      <th>duration_sec</th>\n",
       "      <th>start_time</th>\n",
       "      <th>end_time</th>\n",
       "      <th>user_type</th>\n",
       "      <th>start_station_id</th>\n",
       "      <th>start_station_latitude</th>\n",
       "      <th>start_station_longitude</th>\n",
       "      <th>start_station_name</th>\n",
       "      <th>end_station_id</th>\n",
       "      <th>end_station_latitude</th>\n",
       "      <th>end_station_longitude</th>\n",
       "      <th>end_station_name</th>\n",
       "      <th>start_time_date</th>\n",
       "      <th>end_time_date</th>\n",
       "    </tr>\n",
       "  </thead>\n",
       "  <tbody>\n",
       "    <tr>\n",
       "      <th>0</th>\n",
       "      <td>12904.0</td>\n",
       "      <td>60863.0</td>\n",
       "      <td>2019-09-30 11:48:02.710</td>\n",
       "      <td>2019-10-01 04:42:25.864</td>\n",
       "      <td>Customer</td>\n",
       "      <td>465.0</td>\n",
       "      <td>37.776329</td>\n",
       "      <td>-122.394438</td>\n",
       "      <td>San Francisco Caltrain Station (King St at 4th...</td>\n",
       "      <td>465.0</td>\n",
       "      <td>37.776329</td>\n",
       "      <td>-122.394438</td>\n",
       "      <td>San Francisco Caltrain Station (King St at 4th...</td>\n",
       "      <td>2019-09-30</td>\n",
       "      <td>2019-10-01</td>\n",
       "    </tr>\n",
       "    <tr>\n",
       "      <th>1</th>\n",
       "      <td>163.0</td>\n",
       "      <td>36019.0</td>\n",
       "      <td>2019-09-30 16:16:32.353</td>\n",
       "      <td>2019-10-01 02:16:51.982</td>\n",
       "      <td>Customer</td>\n",
       "      <td>294.0</td>\n",
       "      <td>37.327581</td>\n",
       "      <td>-121.884559</td>\n",
       "      <td>Pierce Ave at Market St</td>\n",
       "      <td>443.0</td>\n",
       "      <td>37.320866</td>\n",
       "      <td>-121.876279</td>\n",
       "      <td>3rd St at Keyes St</td>\n",
       "      <td>2019-09-30</td>\n",
       "      <td>2019-10-01</td>\n",
       "    </tr>\n",
       "    <tr>\n",
       "      <th>2</th>\n",
       "      <td>10737.0</td>\n",
       "      <td>5615.0</td>\n",
       "      <td>2019-09-30 23:12:25.998</td>\n",
       "      <td>2019-10-01 00:46:01.959</td>\n",
       "      <td>Customer</td>\n",
       "      <td>370.0</td>\n",
       "      <td>37.787327</td>\n",
       "      <td>-122.413278</td>\n",
       "      <td>Jones St at Post St</td>\n",
       "      <td>4.0</td>\n",
       "      <td>37.785881</td>\n",
       "      <td>-122.408915</td>\n",
       "      <td>Cyril Magnin St at Ellis St</td>\n",
       "      <td>2019-09-30</td>\n",
       "      <td>2019-10-01</td>\n",
       "    </tr>\n",
       "    <tr>\n",
       "      <th>3</th>\n",
       "      <td>10346.0</td>\n",
       "      <td>1482.0</td>\n",
       "      <td>2019-09-30 23:57:34.663</td>\n",
       "      <td>2019-10-01 00:22:16.849</td>\n",
       "      <td>Customer</td>\n",
       "      <td>109.0</td>\n",
       "      <td>37.763316</td>\n",
       "      <td>-122.421904</td>\n",
       "      <td>17th St at Valencia St</td>\n",
       "      <td>460.0</td>\n",
       "      <td>37.769095</td>\n",
       "      <td>-122.386333</td>\n",
       "      <td>Terry Francois Blvd at Warriors Way</td>\n",
       "      <td>2019-09-30</td>\n",
       "      <td>2019-10-01</td>\n",
       "    </tr>\n",
       "    <tr>\n",
       "      <th>4</th>\n",
       "      <td>1349.0</td>\n",
       "      <td>1272.0</td>\n",
       "      <td>2019-09-30 23:53:28.653</td>\n",
       "      <td>2019-10-01 00:14:41.074</td>\n",
       "      <td>Subscriber</td>\n",
       "      <td>95.0</td>\n",
       "      <td>37.766219</td>\n",
       "      <td>-122.431060</td>\n",
       "      <td>Sanchez St at 15th St</td>\n",
       "      <td>127.0</td>\n",
       "      <td>37.756708</td>\n",
       "      <td>-122.421025</td>\n",
       "      <td>Valencia St at 21st St</td>\n",
       "      <td>2019-09-30</td>\n",
       "      <td>2019-10-01</td>\n",
       "    </tr>\n",
       "    <tr>\n",
       "      <th>5</th>\n",
       "      <td>9806.0</td>\n",
       "      <td>8648.0</td>\n",
       "      <td>2019-09-30 21:43:51.014</td>\n",
       "      <td>2019-10-01 00:07:59.893</td>\n",
       "      <td>Customer</td>\n",
       "      <td>11.0</td>\n",
       "      <td>37.797280</td>\n",
       "      <td>-122.398436</td>\n",
       "      <td>Davis St at Jackson St</td>\n",
       "      <td>3.0</td>\n",
       "      <td>37.786375</td>\n",
       "      <td>-122.404904</td>\n",
       "      <td>Powell St BART Station (Market St at 4th St)</td>\n",
       "      <td>2019-09-30</td>\n",
       "      <td>2019-10-01</td>\n",
       "    </tr>\n",
       "    <tr>\n",
       "      <th>6</th>\n",
       "      <td>9963.0</td>\n",
       "      <td>644.0</td>\n",
       "      <td>2019-09-30 23:54:43.104</td>\n",
       "      <td>2019-10-01 00:05:27.656</td>\n",
       "      <td>Subscriber</td>\n",
       "      <td>15.0</td>\n",
       "      <td>37.795392</td>\n",
       "      <td>-122.394203</td>\n",
       "      <td>San Francisco Ferry Building (Harry Bridges Pl...</td>\n",
       "      <td>91.0</td>\n",
       "      <td>37.771762</td>\n",
       "      <td>-122.398438</td>\n",
       "      <td>Berry St at King St</td>\n",
       "      <td>2019-09-30</td>\n",
       "      <td>2019-10-01</td>\n",
       "    </tr>\n",
       "    <tr>\n",
       "      <th>7</th>\n",
       "      <td>531.0</td>\n",
       "      <td>459.0</td>\n",
       "      <td>2019-09-30 23:54:42.865</td>\n",
       "      <td>2019-10-01 00:02:22.363</td>\n",
       "      <td>Subscriber</td>\n",
       "      <td>321.0</td>\n",
       "      <td>37.780146</td>\n",
       "      <td>-122.403071</td>\n",
       "      <td>5th St at Folsom</td>\n",
       "      <td>77.0</td>\n",
       "      <td>37.773507</td>\n",
       "      <td>-122.416040</td>\n",
       "      <td>11th St at Natoma St</td>\n",
       "      <td>2019-09-30</td>\n",
       "      <td>2019-10-01</td>\n",
       "    </tr>\n",
       "    <tr>\n",
       "      <th>8</th>\n",
       "      <td>10906.0</td>\n",
       "      <td>625.0</td>\n",
       "      <td>2019-09-30 23:49:31.705</td>\n",
       "      <td>2019-09-30 23:59:56.916</td>\n",
       "      <td>Subscriber</td>\n",
       "      <td>16.0</td>\n",
       "      <td>37.794130</td>\n",
       "      <td>-122.394430</td>\n",
       "      <td>Steuart St at Market St</td>\n",
       "      <td>80.0</td>\n",
       "      <td>37.775235</td>\n",
       "      <td>-122.397437</td>\n",
       "      <td>Townsend St at 5th St</td>\n",
       "      <td>2019-09-30</td>\n",
       "      <td>2019-09-30</td>\n",
       "    </tr>\n",
       "    <tr>\n",
       "      <th>9</th>\n",
       "      <td>11058.0</td>\n",
       "      <td>1177.0</td>\n",
       "      <td>2019-09-30 23:39:34.088</td>\n",
       "      <td>2019-09-30 23:59:11.209</td>\n",
       "      <td>Customer</td>\n",
       "      <td>433.0</td>\n",
       "      <td>37.731657</td>\n",
       "      <td>-122.451122</td>\n",
       "      <td>Gennessee St at Monterey Blvd</td>\n",
       "      <td>139.0</td>\n",
       "      <td>37.751017</td>\n",
       "      <td>-122.411901</td>\n",
       "      <td>Garfield Square (25th St at Harrison St)</td>\n",
       "      <td>2019-09-30</td>\n",
       "      <td>2019-09-30</td>\n",
       "    </tr>\n",
       "  </tbody>\n",
       "</table>\n",
       "</div>"
      ],
      "text/plain": [
       "   bike_id  duration_sec              start_time                end_time  \\\n",
       "0  12904.0       60863.0 2019-09-30 11:48:02.710 2019-10-01 04:42:25.864   \n",
       "1    163.0       36019.0 2019-09-30 16:16:32.353 2019-10-01 02:16:51.982   \n",
       "2  10737.0        5615.0 2019-09-30 23:12:25.998 2019-10-01 00:46:01.959   \n",
       "3  10346.0        1482.0 2019-09-30 23:57:34.663 2019-10-01 00:22:16.849   \n",
       "4   1349.0        1272.0 2019-09-30 23:53:28.653 2019-10-01 00:14:41.074   \n",
       "5   9806.0        8648.0 2019-09-30 21:43:51.014 2019-10-01 00:07:59.893   \n",
       "6   9963.0         644.0 2019-09-30 23:54:43.104 2019-10-01 00:05:27.656   \n",
       "7    531.0         459.0 2019-09-30 23:54:42.865 2019-10-01 00:02:22.363   \n",
       "8  10906.0         625.0 2019-09-30 23:49:31.705 2019-09-30 23:59:56.916   \n",
       "9  11058.0        1177.0 2019-09-30 23:39:34.088 2019-09-30 23:59:11.209   \n",
       "\n",
       "    user_type  start_station_id  start_station_latitude  \\\n",
       "0    Customer             465.0               37.776329   \n",
       "1    Customer             294.0               37.327581   \n",
       "2    Customer             370.0               37.787327   \n",
       "3    Customer             109.0               37.763316   \n",
       "4  Subscriber              95.0               37.766219   \n",
       "5    Customer              11.0               37.797280   \n",
       "6  Subscriber              15.0               37.795392   \n",
       "7  Subscriber             321.0               37.780146   \n",
       "8  Subscriber              16.0               37.794130   \n",
       "9    Customer             433.0               37.731657   \n",
       "\n",
       "   start_station_longitude                                 start_station_name  \\\n",
       "0              -122.394438  San Francisco Caltrain Station (King St at 4th...   \n",
       "1              -121.884559                            Pierce Ave at Market St   \n",
       "2              -122.413278                                Jones St at Post St   \n",
       "3              -122.421904                             17th St at Valencia St   \n",
       "4              -122.431060                              Sanchez St at 15th St   \n",
       "5              -122.398436                             Davis St at Jackson St   \n",
       "6              -122.394203  San Francisco Ferry Building (Harry Bridges Pl...   \n",
       "7              -122.403071                                   5th St at Folsom   \n",
       "8              -122.394430                            Steuart St at Market St   \n",
       "9              -122.451122                      Gennessee St at Monterey Blvd   \n",
       "\n",
       "   end_station_id  end_station_latitude  end_station_longitude  \\\n",
       "0           465.0             37.776329            -122.394438   \n",
       "1           443.0             37.320866            -121.876279   \n",
       "2             4.0             37.785881            -122.408915   \n",
       "3           460.0             37.769095            -122.386333   \n",
       "4           127.0             37.756708            -122.421025   \n",
       "5             3.0             37.786375            -122.404904   \n",
       "6            91.0             37.771762            -122.398438   \n",
       "7            77.0             37.773507            -122.416040   \n",
       "8            80.0             37.775235            -122.397437   \n",
       "9           139.0             37.751017            -122.411901   \n",
       "\n",
       "                                    end_station_name start_time_date  \\\n",
       "0  San Francisco Caltrain Station (King St at 4th...      2019-09-30   \n",
       "1                                 3rd St at Keyes St      2019-09-30   \n",
       "2                        Cyril Magnin St at Ellis St      2019-09-30   \n",
       "3                Terry Francois Blvd at Warriors Way      2019-09-30   \n",
       "4                             Valencia St at 21st St      2019-09-30   \n",
       "5       Powell St BART Station (Market St at 4th St)      2019-09-30   \n",
       "6                                Berry St at King St      2019-09-30   \n",
       "7                               11th St at Natoma St      2019-09-30   \n",
       "8                              Townsend St at 5th St      2019-09-30   \n",
       "9           Garfield Square (25th St at Harrison St)      2019-09-30   \n",
       "\n",
       "  end_time_date  \n",
       "0    2019-10-01  \n",
       "1    2019-10-01  \n",
       "2    2019-10-01  \n",
       "3    2019-10-01  \n",
       "4    2019-10-01  \n",
       "5    2019-10-01  \n",
       "6    2019-10-01  \n",
       "7    2019-10-01  \n",
       "8    2019-09-30  \n",
       "9    2019-09-30  "
      ]
     },
     "execution_count": 7,
     "metadata": {},
     "output_type": "execute_result"
    }
   ],
   "source": [
    "print('There are total of {} trips from 2018 to the present'.format(baywheels.shape[0]))\n",
    "print('')\n",
    "print(baywheels.info())\n",
    "print('')\n",
    "baywheels.head(10)"
   ]
  },
  {
   "cell_type": "markdown",
   "metadata": {
    "slideshow": {
     "slide_type": "slide"
    }
   },
   "source": [
    "## 3.1. Univariate Exploration <a class=\"anchor\" id=\"Univariate-Exploration\"></a>"
   ]
  },
  {
   "cell_type": "markdown",
   "metadata": {
    "slideshow": {
     "slide_type": "slide"
    }
   },
   "source": [
    "### 3.1.1. Generating new columns for date from start_time and end_time <a class=\"anchor\" id=\"NewColsFromDate\"></a>"
   ]
  },
  {
   "cell_type": "code",
   "execution_count": 102,
   "metadata": {
    "slideshow": {
     "slide_type": "subslide"
    }
   },
   "outputs": [],
   "source": [
    "#Generate new fields for date from start_time and end_time\n",
    "baywheels['start_time']=pd.to_datetime(baywheels['start_time'])\n",
    "baywheels['end_time']=pd.to_datetime(baywheels['end_time'])\n",
    "\n",
    "baywheels['start_time_date']=baywheels['start_time'].dt.date\n",
    "baywheels['end_time_date']=baywheels['end_time'].dt.date\n",
    "\n",
    "baywheels['start_time_year_month'] = baywheels['start_time'].map(lambda x: x.strftime('%Y-%m'))\n",
    "baywheels['end_time_year_month'] = baywheels['end_time'].map(lambda x: x.strftime('%Y-%m'))\n",
    "\n",
    "baywheels['start_time_year_month_renamed'] = baywheels['start_time'].dt.strftime('%y' + '-' + '%m')\n",
    "\n",
    "baywheels['start_time_year']=baywheels['start_time'].dt.year.astype(int)\n",
    "baywheels['end_time_year']=baywheels['end_time'].dt.year.astype(int)\n",
    "\n",
    "baywheels['start_time_month']=baywheels['start_time'].dt.month.astype(int)\n",
    "baywheels['end_time_month']=baywheels['end_time'].dt.month.astype(int)\n",
    "\n",
    "baywheels['start_time_hour_minute']=baywheels['start_time'].map(lambda x: x.strftime('%H-%m'))\n",
    "baywheels['end_time_hour_minute']=baywheels['end_time'].map(lambda x: x.strftime('%H-%m'))\n",
    "\n",
    "baywheels['start_time_hour']=baywheels['start_time'].dt.hour\n",
    "baywheels['end_time_hour']=baywheels['end_time'].dt.hour\n",
    "\n",
    "baywheels['start_time_weekday']=baywheels['start_time'].dt.day_name()\n",
    "baywheels['end_time_weekday']=baywheels['end_time'].dt.day_name()\n",
    "\n",
    "baywheels['start_time_weekday_abbr']=baywheels['start_time'].dt.weekday.apply(lambda x: calendar.day_abbr[x])\n",
    "baywheels['end_time_weekday_abbr']=baywheels['end_time'].dt.weekday.apply(lambda x: calendar.day_abbr[x])\n",
    "\n",
    "baywheels['duration_min'] = baywheels['duration_sec']/60"
   ]
  },
  {
   "cell_type": "markdown",
   "metadata": {
    "slideshow": {
     "slide_type": "slide"
    }
   },
   "source": [
    "### 3.1.2. Generating Distance from Location Data <a class=\"anchor\" id=\"Distance\"></a>"
   ]
  },
  {
   "cell_type": "code",
   "execution_count": 104,
   "metadata": {
    "slideshow": {
     "slide_type": "subslide"
    }
   },
   "outputs": [],
   "source": [
    "#Generate new fields for distance\n",
    "def distance(origin, destination):\n",
    "    \"\"\"\n",
    "    Parameters\n",
    "    ----------\n",
    "    origin : tuple of float\n",
    "        (lat, long)\n",
    "    destination : tuple of float\n",
    "        (lat, long)\n",
    "\n",
    "    Returns\n",
    "    -------\n",
    "    distance_in_km : float\n",
    "    \"\"\"\n",
    "    lat1, lon1 = origin\n",
    "    lat2, lon2 = destination\n",
    "    radius = 6371  # km\n",
    "\n",
    "    dlat = math.radians(lat2 - lat1)\n",
    "    dlon = math.radians(lon2 - lon1)\n",
    "    a = (math.sin(dlat / 2) * math.sin(dlat / 2) +\n",
    "         math.cos(math.radians(lat1)) * math.cos(math.radians(lat2)) *\n",
    "         math.sin(dlon / 2) * math.sin(dlon / 2))\n",
    "    c = 2 * math.atan2(math.sqrt(a), math.sqrt(1 - a))\n",
    "    d = radius * c\n",
    "\n",
    "    return d"
   ]
  },
  {
   "cell_type": "code",
   "execution_count": 105,
   "metadata": {
    "slideshow": {
     "slide_type": "subslide"
    }
   },
   "outputs": [],
   "source": [
    "baywheels['distance_km_estimates'] = baywheels.apply(lambda x: distance((x['start_station_latitude'], x['start_station_longitude']), (x['end_station_latitude'], x['end_station_longitude'])), axis=1)\n",
    "baywheels['distance_miles_estimates'] = baywheels['distance_km_estimates']*0.621371"
   ]
  },
  {
   "cell_type": "code",
   "execution_count": 106,
   "metadata": {},
   "outputs": [],
   "source": [
    "baywheels.to_csv('BayWheelsEdited.csv', index=False)"
   ]
  },
  {
   "cell_type": "code",
   "execution_count": 107,
   "metadata": {},
   "outputs": [],
   "source": [
    "baywheels = pd.read_csv('BayWheelsEdited.csv')"
   ]
  },
  {
   "cell_type": "markdown",
   "metadata": {
    "slideshow": {
     "slide_type": "slide"
    }
   },
   "source": [
    "### Question 1: What is the current status of Bay Wheels and affect of the Covid-19?"
   ]
  },
  {
   "cell_type": "markdown",
   "metadata": {
    "slideshow": {
     "slide_type": "subslide"
    }
   },
   "source": [
    "In order to see the effects of the Covid-19, I selected the month of March, when the lockdowns started in the pandemic. Let's see how people react using the shared bikes as a transportation option in global pandemic?"
   ]
  },
  {
   "cell_type": "code",
   "execution_count": 108,
   "metadata": {
    "slideshow": {
     "slide_type": "subslide"
    }
   },
   "outputs": [],
   "source": [
    "count_of_rides = baywheels.groupby('start_time_year_month_renamed')['bike_id'].size().reset_index()\n",
    "count_of_unique_rides = baywheels.groupby('start_time_year_month_renamed')['bike_id'].nunique().reset_index().rename(columns={'bike_id':'unique_bike_id'})\n",
    "count_of_rides_baywheels = count_of_rides.merge(count_of_unique_rides, on='start_time_year_month_renamed')\n",
    "count_of_rides_baywheels['number_of_used'] = count_of_rides_baywheels['bike_id']/count_of_rides_baywheels['unique_bike_id']\n",
    "March2019_avg_num_bike_used_per_day = (count_of_rides_baywheels[count_of_rides_baywheels['start_time_year_month_renamed']=='19-03']['number_of_used'].mean())/31\n",
    "March2020_avg_num_bike_used_per_day = (count_of_rides_baywheels[count_of_rides_baywheels['start_time_year_month_renamed']=='20-03']['number_of_used'].mean())/31"
   ]
  },
  {
   "cell_type": "code",
   "execution_count": 109,
   "metadata": {
    "slideshow": {
     "slide_type": "subslide"
    }
   },
   "outputs": [
    {
     "name": "stdout",
     "output_type": "stream",
     "text": [
      "1.8786856140917194 0.3968001731976618\n",
      "Compared these two months in different years, the average decreased 0.21121158868803133 times in March 2020, where average count of rides per bike per day reaches to 0.3968001731976618\n"
     ]
    }
   ],
   "source": [
    "print(March2019_avg_num_bike_used_per_day, March2020_avg_num_bike_used_per_day)\n",
    "print('Compared these two months in different years, the average decreased {} times in March 2020, where average count of rides per bike per day reaches to {}'.format((March2020_avg_num_bike_used_per_day/March2019_avg_num_bike_used_per_day),March2020_avg_num_bike_used_per_day))"
   ]
  },
  {
   "cell_type": "code",
   "execution_count": 110,
   "metadata": {},
   "outputs": [],
   "source": [
    "def transform_axis_fmt(tick_val, pos):\n",
    "    if tick_val >= 1000:\n",
    "        val = int(tick_val/1000)\n",
    "        return '{:d}K'.format(val)\n",
    "    elif tick_val >= 1000000: \n",
    "        val = int(tick_val/1000000)\n",
    "        return '{:d}M'.format(val)\n",
    "    else:\n",
    "        return int(tick_val)"
   ]
  },
  {
   "cell_type": "markdown",
   "metadata": {
    "slideshow": {
     "slide_type": "slide"
    }
   },
   "source": [
    "#### Average count of rides per bike per day"
   ]
  },
  {
   "cell_type": "code",
   "execution_count": 111,
   "metadata": {
    "slideshow": {
     "slide_type": "subslide"
    }
   },
   "outputs": [
    {
     "data": {
      "image/png": "[encoded data removed]",
      "text/plain": [
       "<Figure size 1224x648 with 1 Axes>"
      ]
     },
     "metadata": {
      "needs_background": "light"
     },
     "output_type": "display_data"
    }
   ],
   "source": [
    "# TrendOfTheBikeRidesDaily\n",
    "baywheels.groupby('start_time_date').agg({'bike_id':'count'}).plot(style='-', legend=False, figsize=(17,9))\n",
    "plt.title('The Daily Trend of Bike Rides', fontsize=22, y=1.015)\n",
    "plt.xlabel('year-month', labelpad=16)\n",
    "plt.ylabel('count [rides]', labelpad=16)\n",
    "ax = plt.gca()\n",
    "ax.yaxis.set_major_formatter(tick.FuncFormatter(transform_axis_fmt))\n",
    "plt.savefig('TrendOfTheBikeRidesDaily.png');"
   ]
  },
  {
   "cell_type": "markdown",
   "metadata": {
    "slideshow": {
     "slide_type": "slide"
    }
   },
   "source": [
    "#### Count of daily bike rides from January 2018 to April 2020"
   ]
  },
  {
   "cell_type": "code",
   "execution_count": 112,
   "metadata": {
    "slideshow": {
     "slide_type": "subslide"
    }
   },
   "outputs": [
    {
     "data": {
      "image/png": "[encoded data removed]",
      "text/plain": [
       "<Figure size 1008x576 with 1 Axes>"
      ]
     },
     "metadata": {
      "needs_background": "light"
     },
     "output_type": "display_data"
    }
   ],
   "source": [
    "# TrendOfTheBikeRidesMonthly\n",
    "plt.figure(figsize=(14,8))\n",
    "a = sns.countplot(x='start_time_year_month_renamed', palette=\"Reds\", data=baywheels.sort_values(by='start_time_year_month_renamed'))\n",
    "a.set_xticklabels(a.get_xticklabels(), rotation=90)\n",
    "plt.title('The monthly trend of bike rides', fontsize=22, y=1.015)\n",
    "plt.xlabel('year-month', labelpad=16)\n",
    "plt.ylabel('count [rides]', labelpad=16)\n",
    "ax = plt.gca()\n",
    "ax.yaxis.set_major_formatter(tick.FuncFormatter(transform_axis_fmt))\n",
    "plt.savefig('TrendOfTheBikeRidesMonthly.png')"
   ]
  },
  {
   "cell_type": "markdown",
   "metadata": {
    "slideshow": {
     "slide_type": "slide"
    }
   },
   "source": [
    "### Question 2: How does rides trend change per customer?"
   ]
  },
  {
   "cell_type": "markdown",
   "metadata": {
    "slideshow": {
     "slide_type": "subslide"
    }
   },
   "source": [
    "#### Total rides"
   ]
  },
  {
   "cell_type": "code",
   "execution_count": 113,
   "metadata": {
    "slideshow": {
     "slide_type": "subslide"
    }
   },
   "outputs": [
    {
     "name": "stdout",
     "output_type": "stream",
     "text": [
      "There are 4604284 valid trips with full information\n"
     ]
    }
   ],
   "source": [
    "print('There are {} valid trips with full information'.format(baywheels['bike_id'].count()))"
   ]
  },
  {
   "cell_type": "markdown",
   "metadata": {
    "slideshow": {
     "slide_type": "slide"
    }
   },
   "source": [
    "#### Bike rides per weekday"
   ]
  },
  {
   "cell_type": "code",
   "execution_count": 114,
   "metadata": {
    "slideshow": {
     "slide_type": "subslide"
    }
   },
   "outputs": [],
   "source": [
    "trip_by_weekday_df = baywheels.groupby('start_time_weekday_abbr').agg({'bike_id':'count'})\n",
    "trip_by_weekday_df['perc'] = (trip_by_weekday_df['bike_id']/trip_by_weekday_df['bike_id'].sum())*100\n",
    "weekday_index = ['Mon', 'Tue', 'Wed', 'Thu', 'Fri', 'Sat', 'Sun']"
   ]
  },
  {
   "cell_type": "code",
   "execution_count": 115,
   "metadata": {
    "slideshow": {
     "slide_type": "subslide"
    }
   },
   "outputs": [
    {
     "data": {
      "image/png": "[encoded data removed]",
      "text/plain": [
       "<Figure size 864x576 with 1 Axes>"
      ]
     },
     "metadata": {
      "needs_background": "light"
     },
     "output_type": "display_data"
    }
   ],
   "source": [
    "new_color = ['navy', 'navy', 'navy', 'navy', 'navy', 'deepskyblue', 'deepskyblue']\n",
    "trip_by_weekday_df.reindex(weekday_index)['perc'].plot(kind='bar', color=new_color, figsize=(12,8), legend=False)\n",
    "plt.title('Percentage of all bike rides per weekday', fontsize=22, y=1.015)\n",
    "plt.xlabel('weekday', labelpad=16)\n",
    "plt.ylabel('percentage(%) [rides]', labelpad=16)\n",
    "plt.xticks(rotation=360)\n",
    "plt.savefig('BikeRidesPerWeekday.png');"
   ]
  },
  {
   "cell_type": "markdown",
   "metadata": {
    "slideshow": {
     "slide_type": "slide"
    }
   },
   "source": [
    "#### Peak hours of the day"
   ]
  },
  {
   "cell_type": "code",
   "execution_count": 116,
   "metadata": {
    "slideshow": {
     "slide_type": "subslide"
    }
   },
   "outputs": [
    {
     "data": {
      "image/png": "[encoded data removed]",
      "text/plain": [
       "<Figure size 1080x648 with 1 Axes>"
      ]
     },
     "metadata": {
      "needs_background": "light"
     },
     "output_type": "display_data"
    }
   ],
   "source": [
    "trip_by_hour_baywheels = baywheels.groupby('start_time_hour').agg({'bike_id':'count'}).reset_index()\n",
    "trip_by_hour_baywheels['bike_id'] = (trip_by_hour_baywheels['bike_id']/trip_by_hour_baywheels['bike_id'].sum())*100\n",
    "plt.figure(figsize=(15,9))\n",
    "sns.pointplot(x='start_time_hour', y='bike_id', scale=.7, color='blue', data=trip_by_hour_baywheels)\n",
    "plt.title('Percentage of all bike rides by hour of the day', fontsize=22, y=1.015)\n",
    "plt.xlabel('Hour [day]', labelpad=16)\n",
    "plt.ylabel('Percentage(%) [rides]', labelpad=16)\n",
    "plt.savefig('PeakHoursOfTheDay.png');"
   ]
  },
  {
   "cell_type": "markdown",
   "metadata": {
    "slideshow": {
     "slide_type": "subslide"
    }
   },
   "source": [
    "As seen in the above graph, 8am and 5pm are the peak hours for this service which are, rush hours. Also, people use this service in their lunch time as well."
   ]
  },
  {
   "cell_type": "markdown",
   "metadata": {
    "slideshow": {
     "slide_type": "slide"
    }
   },
   "source": [
    "### Duration Distribution"
   ]
  },
  {
   "cell_type": "code",
   "execution_count": 117,
   "metadata": {
    "slideshow": {
     "slide_type": "subslide"
    }
   },
   "outputs": [
    {
     "data": {
      "image/png": "[encoded data removed]",
      "text/plain": [
       "<Figure size 720x432 with 1 Axes>"
      ]
     },
     "metadata": {
      "needs_background": "light"
     },
     "output_type": "display_data"
    }
   ],
   "source": [
    "plt.figure(figsize=(10,6))\n",
    "#bins = np.arange(0, df_top8_le100['duration_sec'].max()+50, 100)\n",
    "bins = np.arange(0, 10000, 50)\n",
    "plt.hist(data=baywheels, x='duration_sec', bins=bins)\n",
    "plt.xlabel('Duration (sec)')\n",
    "plt.ylabel('Count')\n",
    "plt.title('Duration Distribution');"
   ]
  },
  {
   "cell_type": "code",
   "execution_count": 118,
   "metadata": {
    "slideshow": {
     "slide_type": "subslide"
    }
   },
   "outputs": [
    {
     "data": {
      "image/png": "[encoded data removed]",
      "text/plain": [
       "<Figure size 864x432 with 1 Axes>"
      ]
     },
     "metadata": {
      "needs_background": "light"
     },
     "output_type": "display_data"
    }
   ],
   "source": [
    "# let's put it on a log scale instead of linear scale to grasp the real distribution\n",
    "log_binsize = 0.025\n",
    "bins = 10 ** np.arange(1.2, np.log10(baywheels['duration_sec'].max())+log_binsize, log_binsize)\n",
    "\n",
    "plt.figure(figsize=[12, 6])\n",
    "plt.hist(data = baywheels, x = 'duration_sec', bins = bins)\n",
    "plt.xscale('log')\n",
    "plt.xticks([10,50,70,100,650,1000,6000,10000], [10,50,70,100,650,1000,6000,10000])\n",
    "plt.xlabel('Duration (sec)')\n",
    "plt.ylabel('Count')\n",
    "plt.title('Duration Distribution in Log Scale');"
   ]
  },
  {
   "cell_type": "markdown",
   "metadata": {
    "slideshow": {
     "slide_type": "slide"
    }
   },
   "source": [
    "## 3.2. Bivariate Exploration <a class=\"anchor\" id=\"Bivariate-Exploration\"></a>"
   ]
  },
  {
   "cell_type": "markdown",
   "metadata": {
    "slideshow": {
     "slide_type": "slide"
    }
   },
   "source": [
    "### Question 3: Are there any difference between subscribers' and customers' behaviors?"
   ]
  },
  {
   "cell_type": "markdown",
   "metadata": {
    "slideshow": {
     "slide_type": "subslide"
    }
   },
   "source": [
    "#### Percentage of bike rides of subscribers vs customers"
   ]
  },
  {
   "cell_type": "code",
   "execution_count": 119,
   "metadata": {
    "slideshow": {
     "slide_type": "subslide"
    }
   },
   "outputs": [
    {
     "data": {
      "text/plain": [
       "0    22.326208\n",
       "1    77.673792\n",
       "Name: count, dtype: float64"
      ]
     },
     "execution_count": 119,
     "metadata": {},
     "output_type": "execute_result"
    }
   ],
   "source": [
    "count_of_rides_per_user_type = baywheels.groupby('user_type').size().reset_index(name='count')\n",
    "count_of_rides_per_user_type['count']/len(baywheels)*100"
   ]
  },
  {
   "cell_type": "markdown",
   "metadata": {
    "slideshow": {
     "slide_type": "subslide"
    }
   },
   "source": [
    "<blockquote>\n",
    "- Percentage of subscribers is almost %88.15.<br>\n",
    "- Percentage of customers is almost %11.85.\n",
    "</blockquote>"
   ]
  },
  {
   "cell_type": "markdown",
   "metadata": {
    "slideshow": {
     "slide_type": "slide"
    }
   },
   "source": [
    "#### User trends of bike rides"
   ]
  },
  {
   "cell_type": "code",
   "execution_count": 120,
   "metadata": {
    "slideshow": {
     "slide_type": "subslide"
    }
   },
   "outputs": [
    {
     "data": {
      "image/png": "[encoded data removed]",
      "text/plain": [
       "<Figure size 1080x648 with 1 Axes>"
      ]
     },
     "metadata": {
      "needs_background": "light"
     },
     "output_type": "display_data"
    }
   ],
   "source": [
    "user_type_count_per_year_baywheels = baywheels.groupby([\"start_time_year_month_renamed\", \"user_type\"]).size().reset_index()\n",
    "\n",
    "plt.figure(figsize=(15,9))\n",
    "my_palette = {'Subscriber':'purple', 'Customer':'blue'}\n",
    "ax = sns.pointplot(x='start_time_year_month_renamed', y=0, hue='user_type', palette=my_palette, scale=.7, data=user_type_count_per_year_baywheels)\n",
    "plt.title('The monthly trend of bike rides per user type', fontsize=22, y=1.015)\n",
    "plt.xlabel('year-month', labelpad=16)\n",
    "plt.ylabel('count [rides]', labelpad=16)\n",
    "leg = ax.legend()\n",
    "leg.set_title('User Type',prop={'size':16})\n",
    "ax = plt.gca()\n",
    "ax.yaxis.set_major_formatter(tick.FuncFormatter(transform_axis_fmt))\n",
    "plt.savefig('MonthlyTrendofBikeRidesUserTypes.png');"
   ]
  },
  {
   "cell_type": "markdown",
   "metadata": {
    "slideshow": {
     "slide_type": "slide"
    }
   },
   "source": [
    "#### Average trip duration of subscribers vs customers"
   ]
  },
  {
   "cell_type": "code",
   "execution_count": 121,
   "metadata": {
    "slideshow": {
     "slide_type": "subslide"
    }
   },
   "outputs": [
    {
     "data": {
      "image/png": "[encoded data removed]",
      "text/plain": [
       "<Figure size 936x504 with 1 Axes>"
      ]
     },
     "metadata": {
      "needs_background": "light"
     },
     "output_type": "display_data"
    }
   ],
   "source": [
    "new_color=['blue', 'purple']\n",
    "ax = baywheels.groupby('user_type')['duration_min'].mean().plot(kind='barh', color=new_color, figsize=(13,7))\n",
    "ax.set_title('Average trip duration per user type', fontsize=20, y=1.015)\n",
    "ax.set_ylabel('user type', labelpad=16)\n",
    "ax.set_xlabel('minutes [trip duration]', labelpad=16);"
   ]
  },
  {
   "cell_type": "markdown",
   "metadata": {
    "slideshow": {
     "slide_type": "subslide"
    }
   },
   "source": [
    "<blockquote>\n",
    "Subscribers' average trip duration is around 12 minutes.<br>\n",
    "Customers' average trip duration is more than 20 minutes.\n",
    "</blockquote>"
   ]
  },
  {
   "cell_type": "markdown",
   "metadata": {
    "slideshow": {
     "slide_type": "slide"
    }
   },
   "source": [
    "#### Average trip distance of subscribers vs customers¶"
   ]
  },
  {
   "cell_type": "code",
   "execution_count": 122,
   "metadata": {
    "slideshow": {
     "slide_type": "subslide"
    }
   },
   "outputs": [
    {
     "data": {
      "text/plain": [
       "Text(0.5, 0, 'miles [distance]')"
      ]
     },
     "execution_count": 122,
     "metadata": {},
     "output_type": "execute_result"
    },
    {
     "data": {
      "image/png": "[encoded data removed]",
      "text/plain": [
       "<Figure size 936x504 with 1 Axes>"
      ]
     },
     "metadata": {
      "needs_background": "light"
     },
     "output_type": "display_data"
    }
   ],
   "source": [
    "ax = baywheels.groupby('user_type')['distance_miles_estimates'].mean().plot(kind='barh', color=new_color, figsize=(13,7))\n",
    "ax.set_title('Average trip distance per user group', fontsize=22, y=1.015)\n",
    "ax.set_ylabel('user type', labelpad=16)\n",
    "ax.set_xlabel('miles [distance]', labelpad=16)"
   ]
  },
  {
   "cell_type": "markdown",
   "metadata": {
    "slideshow": {
     "slide_type": "subslide"
    }
   },
   "source": [
    "<blockquote> Customers trip distances are roughly 1.5 times longer then subscriber trips, which is nearly 1 mile. </blockquote>"
   ]
  },
  {
   "cell_type": "markdown",
   "metadata": {
    "slideshow": {
     "slide_type": "slide"
    }
   },
   "source": [
    "### Talk about some of the relationships you observed in this part of the investigation. How did the feature(s) of interest vary with other features in the dataset?"
   ]
  },
  {
   "cell_type": "markdown",
   "metadata": {
    "slideshow": {
     "slide_type": "subslide"
    }
   },
   "source": [
    "<blockquote>Adding the client form to the study shows various patterns of usage by customers and subscribers. As described above, casual riders are more likely visitors who rent bikes mostly in summertime (the highest in September 2019), more frequently on weekends than on weekdays, and rent bikes more often during the day than around the clock (8-9am and 5-6pm). Subscribers are day-to-day riders who still use the device during the summer season. They rent bikes more often during weekdays than weekends and mainly around the time they go and go back from work or school (8-9am and 5-6pm).<blockquote>"
   ]
  },
  {
   "cell_type": "markdown",
   "metadata": {
    "slideshow": {
     "slide_type": "slide"
    }
   },
   "source": [
    "### Did you observe any interesting relationships between the other features (not the main feature(s) of interest)?"
   ]
  },
  {
   "cell_type": "markdown",
   "metadata": {
    "slideshow": {
     "slide_type": "subslide"
    }
   },
   "source": [
    "<blockquote>There is a variation in the length of the trip between customers and subscribers. Customer journeys are typically longer than for subscribers, most likely due to the fact that they enjoy cycle rides on weekends during the summer, which promotes longer journeys across the city. Subscribers, on the other hand, use the scheme primarily for public transit purposes so that they choose fast trips to and from work / school.</blockquote>"
   ]
  },
  {
   "cell_type": "markdown",
   "metadata": {
    "slideshow": {
     "slide_type": "slide"
    }
   },
   "source": [
    "## 3.3. Multivariate Exploration <a class=\"anchor\" id=\"Multivariate-Exploration\"></a>"
   ]
  },
  {
   "cell_type": "code",
   "execution_count": 123,
   "metadata": {
    "slideshow": {
     "slide_type": "-"
    }
   },
   "outputs": [],
   "source": [
    "baywheels_popStartlocs = baywheels['start_station_name'].value_counts(ascending=False)[:10]"
   ]
  },
  {
   "cell_type": "code",
   "execution_count": 124,
   "metadata": {},
   "outputs": [
    {
     "data": {
      "text/plain": [
       "Market St at 10th St                                         85571\n",
       "San Francisco Caltrain (Townsend St at 4th St)               81314\n",
       "Berry St at 4th St                                           81038\n",
       "San Francisco Ferry Building (Harry Bridges Plaza)           80888\n",
       "San Francisco Caltrain Station 2  (Townsend St at 4th St)    73887\n",
       "Montgomery St BART Station (Market St at 2nd St)             71624\n",
       "Powell St BART Station (Market St at 4th St)                 69487\n",
       "The Embarcadero at Sansome St                                64177\n",
       "Howard St at Beale St                                        61609\n",
       "Steuart St at Market St                                      60610\n",
       "Name: start_station_name, dtype: int64"
      ]
     },
     "execution_count": 124,
     "metadata": {},
     "output_type": "execute_result"
    }
   ],
   "source": [
    "baywheels_popStartlocs.head(10)"
   ]
  },
  {
   "cell_type": "code",
   "execution_count": 125,
   "metadata": {},
   "outputs": [],
   "source": [
    "baywheels_popEndlocs = baywheels['end_station_name'].value_counts(ascending=False)[:10]"
   ]
  },
  {
   "cell_type": "code",
   "execution_count": 126,
   "metadata": {},
   "outputs": [
    {
     "data": {
      "text/plain": [
       "San Francisco Caltrain (Townsend St at 4th St)               104466\n",
       "San Francisco Caltrain Station 2  (Townsend St at 4th St)    101793\n",
       "San Francisco Ferry Building (Harry Bridges Plaza)            97492\n",
       "Montgomery St BART Station (Market St at 2nd St)              90435\n",
       "Market St at 10th St                                          84248\n",
       "Berry St at 4th St                                            79867\n",
       "Powell St BART Station (Market St at 4th St)                  74993\n",
       "The Embarcadero at Sansome St                                 74964\n",
       "Steuart St at Market St                                       61710\n",
       "Powell St BART Station (Market St at 5th St)                  61254\n",
       "Name: end_station_name, dtype: int64"
      ]
     },
     "execution_count": 126,
     "metadata": {},
     "output_type": "execute_result"
    }
   ],
   "source": [
    "baywheels_popEndlocs.head(10)"
   ]
  },
  {
   "cell_type": "code",
   "execution_count": 127,
   "metadata": {
    "slideshow": {
     "slide_type": "subslide"
    }
   },
   "outputs": [
    {
     "data": {
      "image/png": "[encoded data removed]",
      "text/plain": [
       "<Figure size 648x216 with 3 Axes>"
      ]
     },
     "metadata": {
      "needs_background": "light"
     },
     "output_type": "display_data"
    }
   ],
   "source": [
    "#Distribution of rides by months and year\n",
    "g = sns.FacetGrid (data = baywheels, col='start_time_year', col_wrap=3)\n",
    "bins = [0,1,2,3,4,5,6,7,8,9,10,11,12]\n",
    "g.map(plt.hist, \"start_time_month\" , bins=bins);"
   ]
  },
  {
   "cell_type": "markdown",
   "metadata": {
    "slideshow": {
     "slide_type": "subslide"
    }
   },
   "source": [
    "When you compare the years of 2018, 2019 and 2020 you do see that the most popular months are during the summer and the least popular months are at the beginning of the year."
   ]
  },
  {
   "cell_type": "code",
   "execution_count": 129,
   "metadata": {},
   "outputs": [],
   "source": [
    "baywheels_copy = baywheels.copy()"
   ]
  },
  {
   "cell_type": "code",
   "execution_count": 130,
   "metadata": {
    "slideshow": {
     "slide_type": "slide"
    }
   },
   "outputs": [
    {
     "data": {
      "image/png": "[encoded data removed]",
      "text/plain": [
       "<Figure size 648x576 with 4 Axes>"
      ]
     },
     "metadata": {
      "needs_background": "light"
     },
     "output_type": "display_data"
    }
   ],
   "source": [
    "# Setting the weekday order\n",
    "baywheels_copy['start_time_weekday_abbr'] = pd.Categorical(baywheels_copy['start_time_weekday_abbr'], \n",
    "                                                 categories=['Mon','Tue','Wed','Thu','Fri','Sat', 'Sun'], \n",
    "                                                 ordered=True)\n",
    "plt.figure(figsize=(9,8))\n",
    "plt.suptitle('Hourly usage during the weekday for customers and subscribers', fontsize=14, fontweight='semibold')\n",
    "\n",
    "# heatmap for customers\n",
    "plt.subplot(1, 2, 1)\n",
    "baywheels_customer = baywheels_copy.query('user_type == \"Customer\"').groupby([\"start_time_hour\", \"start_time_weekday_abbr\"])[\"bike_id\"].size().reset_index()\n",
    "baywheels_customer = baywheels_customer.pivot(\"start_time_hour\", \"start_time_weekday_abbr\", \"bike_id\")\n",
    "sns.heatmap(baywheels_customer, cmap=\"BuPu\")\n",
    "\n",
    "plt.title(\"Customer\", y=1.015)\n",
    "plt.xlabel('Weekday')\n",
    "plt.ylabel('Start Time Hour')\n",
    "\n",
    "# heatmap for subscribers\n",
    "plt.subplot(1, 2, 2)\n",
    "baywheels_subscriber = baywheels_copy.query('user_type == \"Subscriber\"').groupby([\"start_time_hour\", \"start_time_weekday_abbr\"])[\"bike_id\"].size().reset_index()\n",
    "baywheels_subscriber = baywheels_subscriber.pivot(\"start_time_hour\", \"start_time_weekday_abbr\", \"bike_id\")\n",
    "sns.heatmap(baywheels_subscriber, cmap=\"BuPu\")\n",
    "\n",
    "plt.title(\"Subscriber\", y=1.015)\n",
    "plt.xlabel('Weekday')\n",
    "plt.ylabel('');"
   ]
  },
  {
   "cell_type": "markdown",
   "metadata": {
    "slideshow": {
     "slide_type": "subslide"
    }
   },
   "source": [
    "The story beautifully illustrates in one position the various patterns for consumers and subscribers that I've written up before.\n",
    "\n",
    "_Customers use the bike sharing system more often on weekends:_\n",
    " - weekdays: most bike rides hapen around 8-9am and 5-6pm with the peak on Fridays around 5pm\n",
    " - weekends: most bike rides happen between 10am - 8pm with the peak on Saturdays around 2pm\n",
    "\n",
    "_Subscribers use the bike sharing system mainly on weekdays:_\n",
    " - weekdays: most bike rides hapen around 8-9am and 5-6pm with the peak on Tuesdays around 8am\n",
    " - weekends: bikes are still rented but there is a significant drop in numbers of rented bikes throughout the entire weekends\n"
   ]
  },
  {
   "cell_type": "markdown",
   "metadata": {
    "slideshow": {
     "slide_type": "slide"
    }
   },
   "source": [
    "### Talk about some of the relationships you observed in this part of the investigation. Were there features that strengthened each other in terms of looking at your feature(s) of interest?"
   ]
  },
  {
   "cell_type": "markdown",
   "metadata": {
    "slideshow": {
     "slide_type": "subslide"
    }
   },
   "source": [
    "<blockquote>Plotting a heat map on when bikes are high in demand during the day on each weekday sheds new eyes on the customer's behaviour. Plotting # bike trips during the day and # bike trips in the weekdays separately gave the impression that the market for bikes is very strong all day with a peak about 5 pm, which is not exactly accurate.  The pattern in weekdays for consumers (though consumers are not early birds) is mirrored by that of subscribers who rent bikes more around the clock (8-9am and 5-6pm). For clients, as seen in univariate explorations, most of the trips take place on weekends but often between 10am-8pm with a high on Saturdays about 2 pm, which was previously not noticeable.</blockquote>"
   ]
  },
  {
   "cell_type": "markdown",
   "metadata": {
    "slideshow": {
     "slide_type": "slide"
    }
   },
   "source": [
    "# 4.CONCLUSION <a class=\"anchor\" id=\"CONCLUSION\"></a>"
   ]
  },
  {
   "cell_type": "markdown",
   "metadata": {
    "slideshow": {
     "slide_type": "subslide"
    }
   },
   "source": [
    "## 4.1. Who are Bay Wheels' Customers?"
   ]
  },
  {
   "cell_type": "markdown",
   "metadata": {
    "slideshow": {
     "slide_type": "subslide"
    }
   },
   "source": [
    "We have seen that customers take longer rides from subscribers. Because most customers are tourists and will travel longer distances to the see the city. \n",
    "\n",
    "What was abnormal was the distribution for the year of 2020, where it seemed that customers were more active than subscribers. Which might be due to the Covid-19 in the past couple months."
   ]
  },
  {
   "cell_type": "markdown",
   "metadata": {
    "slideshow": {
     "slide_type": "slide"
    }
   },
   "source": [
    "**Subscriber / Customer:**\n",
    "- Percentage of subscriber users is almost %88.15. <br>\n",
    "- Percentage of customers user is almost %11.85."
   ]
  },
  {
   "cell_type": "markdown",
   "metadata": {
    "slideshow": {
     "slide_type": "subslide"
    }
   },
   "source": [
    "**Average Trip Time:**\n",
    "- For customer: 20 minutes\n",
    "- For subscriber: 12 minutes\n",
    "\n",
    "**Average distance per user group**\n",
    "- For customer: 1.6 miles\n",
    "- For subscriber: 1.1 miles"
   ]
  },
  {
   "cell_type": "markdown",
   "metadata": {
    "slideshow": {
     "slide_type": "slide"
    }
   },
   "source": [
    "### 4.2. What are The Usage Statistics"
   ]
  },
  {
   "cell_type": "markdown",
   "metadata": {
    "slideshow": {
     "slide_type": "subslide"
    }
   },
   "source": [
    "**Most Used Hours**\n",
    "- In weekdays:  8 AM and 5 PM\n",
    "- In weekends:  12-2 PM \n",
    "\n",
    "**Most Used Days (Weekly Analysis)**\n",
    "- For Customers: Thursday and Friday Evenings\n",
    "- For Subscribers: Tuesday Mornings    "
   ]
  },
  {
   "cell_type": "markdown",
   "metadata": {
    "slideshow": {
     "slide_type": "slide"
    }
   },
   "source": [
    "### 4.3. What are the Most Popular Locations?"
   ]
  },
  {
   "cell_type": "markdown",
   "metadata": {
    "slideshow": {
     "slide_type": "subslide"
    }
   },
   "source": [
    "**Where People usually Start Their trip**\n",
    "- Market St at 10th St                                        \n",
    "- San Francisco Caltrain (Townsend St at 4th St)              \n",
    "- Berry St at 4th St                                        \n",
    "- San Francisco Ferry Building (Harry Bridges Plaza)  \n",
    "- San Francisco Caltrain Station 2  (Townsend St at 4th St)\n",
    "\n",
    "**Where People usually End Their trip**\n",
    "- San Francisco Caltrain (Townsend St at 4th St)               \n",
    "- San Francisco Caltrain Station 2  (Townsend St at 4th St)    \n",
    "- San Francisco Ferry Building (Harry Bridges Plaza)           \n",
    "- Montgomery St BART Station (Market St at 2nd St)             \n",
    "- Market St at 10th St                                        "
   ]
  }
 ],
 "metadata": {
  "celltoolbar": "Slideshow",
  "kernelspec": {
   "display_name": "Python 3",
   "language": "python",
   "name": "python3"
  },
  "language_info": {
   "codemirror_mode": {
    "name": "ipython",
    "version": 3
   },
   "file_extension": ".py",
   "mimetype": "text/x-python",
   "name": "python",
   "nbconvert_exporter": "python",
   "pygments_lexer": "ipython3",
   "version": "3.8.3"
  }
 },
 "nbformat": 4,
 "nbformat_minor": 4
}
